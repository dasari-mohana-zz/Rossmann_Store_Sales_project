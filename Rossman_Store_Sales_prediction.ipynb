{
 "cells": [
  {
   "cell_type": "markdown",
   "id": "4dddfa99",
   "metadata": {},
   "source": [
    "# Rossmann Store Sales\n",
    "                                                                                           Code written by: Dasari Mohan\n",
    "\n",
    "\n",
    "## PROJECT OBJECTIVE :\n",
    "\n",
    "Forecast sales using store, promotion, and competitor data\n",
    "\n",
    "## CONTEXT :\n",
    "\n",
    "Rossmann operates over 3,000 drug stores in 7 European countries. Currently, Rossmann store managers are tasked with predicting their daily sales for up to six weeks in advance. Store sales are influenced by many factors, including promotions, competition, school and state holidays, seasonality, and locality. With thousands of individual managers predicting sales based on their unique circumstances, the accuracy of results can be quite varied. We are provided with historical sales data for 1,115 Rossmann stores. The task is to forecast the \"Sales\" column."
   ]
  },
  {
   "cell_type": "markdown",
   "id": "42b0833f",
   "metadata": {},
   "source": [
    "Data fields\n",
    "\n",
    "1.\tId - an Id that represents a (Store, Date) duple within the test set\n",
    "2.\tStore - a unique Id for each store\n",
    "3.\tSales - the turnover for any given day (this is what you are predicting)\n",
    "4.\tCustomers - the number of customers on a given day\n",
    "5.\tOpen - an indicator for whether the store was open: 0 = closed, 1 = open\n",
    "6.\tStateHoliday - indicates a state holiday. Normally all stores, with few exceptions, are closed on state holidays. Note that all schools are closed on public holidays and weekends. a = public holiday, b = Easter holiday, c = Christmas, 0 = None\n",
    "7.\tSchoolHoliday - indicates if the (Store, Date) was affected by the closure of public schools\n",
    "8.\tStoreType - differentiates between 4 different store models: a, b, c, d\n",
    "9.\tAssortment - describes an assortment level: a = basic, b = extra, c = extended\n",
    "10.\tCompetitionDistance - distance in meters to the nearest competitor store\n",
    "11.\tCompetitionOpenSince[Month/Year] - gives the approximate year and month of the time the nearest competitor was opened\n",
    "12.\tPromo - indicates whether a store is running a promo on that day\n",
    "13.\tPromo2 - Promo2 is a continuing and consecutive promotion for some stores: 0 = store is not participating, 1 = store is participating\n",
    "14.\tPromo2Since[Year/Week] - describes the year and calendar week when the store started participating in Promo2\n",
    "15.\tPromoInterval - describes the consecutive intervals Promo2 is started, naming the months the promotion is started anew. E.g. \"Feb,May,Aug,Nov\" means each round starts in February, May, August, November of any given year for that store\n"
   ]
  },
  {
   "cell_type": "code",
   "execution_count": 1,
   "id": "bccca85f",
   "metadata": {},
   "outputs": [],
   "source": [
    "# Importing Required Libraries\n",
    "import numpy as np\n",
    "import pandas as pd\n",
    "import seaborn as sns\n",
    "import matplotlib.pyplot as plt"
   ]
  },
  {
   "cell_type": "code",
   "execution_count": 2,
   "id": "09faa84b",
   "metadata": {},
   "outputs": [
    {
     "data": {
      "text/html": [
       "<div>\n",
       "<style scoped>\n",
       "    .dataframe tbody tr th:only-of-type {\n",
       "        vertical-align: middle;\n",
       "    }\n",
       "\n",
       "    .dataframe tbody tr th {\n",
       "        vertical-align: top;\n",
       "    }\n",
       "\n",
       "    .dataframe thead th {\n",
       "        text-align: right;\n",
       "    }\n",
       "</style>\n",
       "<table border=\"1\" class=\"dataframe\">\n",
       "  <thead>\n",
       "    <tr style=\"text-align: right;\">\n",
       "      <th></th>\n",
       "      <th>Store</th>\n",
       "      <th>StoreType</th>\n",
       "      <th>Assortment</th>\n",
       "      <th>CompetitionDistance</th>\n",
       "      <th>CompetitionOpenSinceMonth</th>\n",
       "      <th>CompetitionOpenSinceYear</th>\n",
       "      <th>Promo2</th>\n",
       "      <th>Promo2SinceWeek</th>\n",
       "      <th>Promo2SinceYear</th>\n",
       "      <th>PromoInterval</th>\n",
       "    </tr>\n",
       "  </thead>\n",
       "  <tbody>\n",
       "    <tr>\n",
       "      <th>0</th>\n",
       "      <td>1</td>\n",
       "      <td>c</td>\n",
       "      <td>a</td>\n",
       "      <td>1270.0</td>\n",
       "      <td>9.0</td>\n",
       "      <td>2008.0</td>\n",
       "      <td>0</td>\n",
       "      <td>NaN</td>\n",
       "      <td>NaN</td>\n",
       "      <td>NaN</td>\n",
       "    </tr>\n",
       "    <tr>\n",
       "      <th>1</th>\n",
       "      <td>2</td>\n",
       "      <td>a</td>\n",
       "      <td>a</td>\n",
       "      <td>570.0</td>\n",
       "      <td>11.0</td>\n",
       "      <td>2007.0</td>\n",
       "      <td>1</td>\n",
       "      <td>13.0</td>\n",
       "      <td>2010.0</td>\n",
       "      <td>Jan,Apr,Jul,Oct</td>\n",
       "    </tr>\n",
       "    <tr>\n",
       "      <th>2</th>\n",
       "      <td>3</td>\n",
       "      <td>a</td>\n",
       "      <td>a</td>\n",
       "      <td>14130.0</td>\n",
       "      <td>12.0</td>\n",
       "      <td>2006.0</td>\n",
       "      <td>1</td>\n",
       "      <td>14.0</td>\n",
       "      <td>2011.0</td>\n",
       "      <td>Jan,Apr,Jul,Oct</td>\n",
       "    </tr>\n",
       "    <tr>\n",
       "      <th>3</th>\n",
       "      <td>4</td>\n",
       "      <td>c</td>\n",
       "      <td>c</td>\n",
       "      <td>620.0</td>\n",
       "      <td>9.0</td>\n",
       "      <td>2009.0</td>\n",
       "      <td>0</td>\n",
       "      <td>NaN</td>\n",
       "      <td>NaN</td>\n",
       "      <td>NaN</td>\n",
       "    </tr>\n",
       "    <tr>\n",
       "      <th>4</th>\n",
       "      <td>5</td>\n",
       "      <td>a</td>\n",
       "      <td>a</td>\n",
       "      <td>29910.0</td>\n",
       "      <td>4.0</td>\n",
       "      <td>2015.0</td>\n",
       "      <td>0</td>\n",
       "      <td>NaN</td>\n",
       "      <td>NaN</td>\n",
       "      <td>NaN</td>\n",
       "    </tr>\n",
       "  </tbody>\n",
       "</table>\n",
       "</div>"
      ],
      "text/plain": [
       "   Store StoreType Assortment  CompetitionDistance  CompetitionOpenSinceMonth  \\\n",
       "0      1         c          a               1270.0                        9.0   \n",
       "1      2         a          a                570.0                       11.0   \n",
       "2      3         a          a              14130.0                       12.0   \n",
       "3      4         c          c                620.0                        9.0   \n",
       "4      5         a          a              29910.0                        4.0   \n",
       "\n",
       "   CompetitionOpenSinceYear  Promo2  Promo2SinceWeek  Promo2SinceYear  \\\n",
       "0                    2008.0       0              NaN              NaN   \n",
       "1                    2007.0       1             13.0           2010.0   \n",
       "2                    2006.0       1             14.0           2011.0   \n",
       "3                    2009.0       0              NaN              NaN   \n",
       "4                    2015.0       0              NaN              NaN   \n",
       "\n",
       "     PromoInterval  \n",
       "0              NaN  \n",
       "1  Jan,Apr,Jul,Oct  \n",
       "2  Jan,Apr,Jul,Oct  \n",
       "3              NaN  \n",
       "4              NaN  "
      ]
     },
     "execution_count": 2,
     "metadata": {},
     "output_type": "execute_result"
    }
   ],
   "source": [
    "store_data = pd.read_csv('store.csv')\n",
    "store_data.head(5)"
   ]
  },
  {
   "cell_type": "code",
   "execution_count": 3,
   "id": "e86825c2",
   "metadata": {},
   "outputs": [
    {
     "name": "stderr",
     "output_type": "stream",
     "text": [
      "C:\\ProgramData\\Anaconda3\\lib\\site-packages\\IPython\\core\\interactiveshell.py:3165: DtypeWarning: Columns (7) have mixed types.Specify dtype option on import or set low_memory=False.\n",
      "  has_raised = await self.run_ast_nodes(code_ast.body, cell_name,\n"
     ]
    },
    {
     "data": {
      "text/html": [
       "<div>\n",
       "<style scoped>\n",
       "    .dataframe tbody tr th:only-of-type {\n",
       "        vertical-align: middle;\n",
       "    }\n",
       "\n",
       "    .dataframe tbody tr th {\n",
       "        vertical-align: top;\n",
       "    }\n",
       "\n",
       "    .dataframe thead th {\n",
       "        text-align: right;\n",
       "    }\n",
       "</style>\n",
       "<table border=\"1\" class=\"dataframe\">\n",
       "  <thead>\n",
       "    <tr style=\"text-align: right;\">\n",
       "      <th></th>\n",
       "      <th>Store</th>\n",
       "      <th>DayOfWeek</th>\n",
       "      <th>Date</th>\n",
       "      <th>Sales</th>\n",
       "      <th>Customers</th>\n",
       "      <th>Open</th>\n",
       "      <th>Promo</th>\n",
       "      <th>StateHoliday</th>\n",
       "      <th>SchoolHoliday</th>\n",
       "    </tr>\n",
       "  </thead>\n",
       "  <tbody>\n",
       "    <tr>\n",
       "      <th>0</th>\n",
       "      <td>1</td>\n",
       "      <td>5</td>\n",
       "      <td>2015-07-31</td>\n",
       "      <td>5263</td>\n",
       "      <td>555</td>\n",
       "      <td>1</td>\n",
       "      <td>1</td>\n",
       "      <td>0</td>\n",
       "      <td>1</td>\n",
       "    </tr>\n",
       "    <tr>\n",
       "      <th>1</th>\n",
       "      <td>2</td>\n",
       "      <td>5</td>\n",
       "      <td>2015-07-31</td>\n",
       "      <td>6064</td>\n",
       "      <td>625</td>\n",
       "      <td>1</td>\n",
       "      <td>1</td>\n",
       "      <td>0</td>\n",
       "      <td>1</td>\n",
       "    </tr>\n",
       "    <tr>\n",
       "      <th>2</th>\n",
       "      <td>3</td>\n",
       "      <td>5</td>\n",
       "      <td>2015-07-31</td>\n",
       "      <td>8314</td>\n",
       "      <td>821</td>\n",
       "      <td>1</td>\n",
       "      <td>1</td>\n",
       "      <td>0</td>\n",
       "      <td>1</td>\n",
       "    </tr>\n",
       "    <tr>\n",
       "      <th>3</th>\n",
       "      <td>4</td>\n",
       "      <td>5</td>\n",
       "      <td>2015-07-31</td>\n",
       "      <td>13995</td>\n",
       "      <td>1498</td>\n",
       "      <td>1</td>\n",
       "      <td>1</td>\n",
       "      <td>0</td>\n",
       "      <td>1</td>\n",
       "    </tr>\n",
       "    <tr>\n",
       "      <th>4</th>\n",
       "      <td>5</td>\n",
       "      <td>5</td>\n",
       "      <td>2015-07-31</td>\n",
       "      <td>4822</td>\n",
       "      <td>559</td>\n",
       "      <td>1</td>\n",
       "      <td>1</td>\n",
       "      <td>0</td>\n",
       "      <td>1</td>\n",
       "    </tr>\n",
       "  </tbody>\n",
       "</table>\n",
       "</div>"
      ],
      "text/plain": [
       "   Store  DayOfWeek        Date  Sales  Customers  Open  Promo StateHoliday  \\\n",
       "0      1          5  2015-07-31   5263        555     1      1            0   \n",
       "1      2          5  2015-07-31   6064        625     1      1            0   \n",
       "2      3          5  2015-07-31   8314        821     1      1            0   \n",
       "3      4          5  2015-07-31  13995       1498     1      1            0   \n",
       "4      5          5  2015-07-31   4822        559     1      1            0   \n",
       "\n",
       "   SchoolHoliday  \n",
       "0              1  \n",
       "1              1  \n",
       "2              1  \n",
       "3              1  \n",
       "4              1  "
      ]
     },
     "execution_count": 3,
     "metadata": {},
     "output_type": "execute_result"
    }
   ],
   "source": [
    "train_data = pd.read_csv('train.csv')\n",
    "train_data.head(5)"
   ]
  },
  {
   "cell_type": "code",
   "execution_count": 4,
   "id": "bab30b5d",
   "metadata": {},
   "outputs": [
    {
     "data": {
      "text/html": [
       "<div>\n",
       "<style scoped>\n",
       "    .dataframe tbody tr th:only-of-type {\n",
       "        vertical-align: middle;\n",
       "    }\n",
       "\n",
       "    .dataframe tbody tr th {\n",
       "        vertical-align: top;\n",
       "    }\n",
       "\n",
       "    .dataframe thead th {\n",
       "        text-align: right;\n",
       "    }\n",
       "</style>\n",
       "<table border=\"1\" class=\"dataframe\">\n",
       "  <thead>\n",
       "    <tr style=\"text-align: right;\">\n",
       "      <th></th>\n",
       "      <th>Store</th>\n",
       "      <th>StoreType</th>\n",
       "      <th>Assortment</th>\n",
       "      <th>CompetitionDistance</th>\n",
       "      <th>CompetitionOpenSinceMonth</th>\n",
       "      <th>CompetitionOpenSinceYear</th>\n",
       "      <th>Promo2</th>\n",
       "      <th>Promo2SinceWeek</th>\n",
       "      <th>Promo2SinceYear</th>\n",
       "      <th>PromoInterval</th>\n",
       "      <th>DayOfWeek</th>\n",
       "      <th>Date</th>\n",
       "      <th>Sales</th>\n",
       "      <th>Customers</th>\n",
       "      <th>Open</th>\n",
       "      <th>Promo</th>\n",
       "      <th>StateHoliday</th>\n",
       "      <th>SchoolHoliday</th>\n",
       "    </tr>\n",
       "  </thead>\n",
       "  <tbody>\n",
       "    <tr>\n",
       "      <th>0</th>\n",
       "      <td>1</td>\n",
       "      <td>c</td>\n",
       "      <td>a</td>\n",
       "      <td>1270.0</td>\n",
       "      <td>9.0</td>\n",
       "      <td>2008.0</td>\n",
       "      <td>0</td>\n",
       "      <td>NaN</td>\n",
       "      <td>NaN</td>\n",
       "      <td>NaN</td>\n",
       "      <td>5</td>\n",
       "      <td>2015-07-31</td>\n",
       "      <td>5263</td>\n",
       "      <td>555</td>\n",
       "      <td>1</td>\n",
       "      <td>1</td>\n",
       "      <td>0</td>\n",
       "      <td>1</td>\n",
       "    </tr>\n",
       "    <tr>\n",
       "      <th>1</th>\n",
       "      <td>1</td>\n",
       "      <td>c</td>\n",
       "      <td>a</td>\n",
       "      <td>1270.0</td>\n",
       "      <td>9.0</td>\n",
       "      <td>2008.0</td>\n",
       "      <td>0</td>\n",
       "      <td>NaN</td>\n",
       "      <td>NaN</td>\n",
       "      <td>NaN</td>\n",
       "      <td>4</td>\n",
       "      <td>2015-07-30</td>\n",
       "      <td>5020</td>\n",
       "      <td>546</td>\n",
       "      <td>1</td>\n",
       "      <td>1</td>\n",
       "      <td>0</td>\n",
       "      <td>1</td>\n",
       "    </tr>\n",
       "    <tr>\n",
       "      <th>2</th>\n",
       "      <td>1</td>\n",
       "      <td>c</td>\n",
       "      <td>a</td>\n",
       "      <td>1270.0</td>\n",
       "      <td>9.0</td>\n",
       "      <td>2008.0</td>\n",
       "      <td>0</td>\n",
       "      <td>NaN</td>\n",
       "      <td>NaN</td>\n",
       "      <td>NaN</td>\n",
       "      <td>3</td>\n",
       "      <td>2015-07-29</td>\n",
       "      <td>4782</td>\n",
       "      <td>523</td>\n",
       "      <td>1</td>\n",
       "      <td>1</td>\n",
       "      <td>0</td>\n",
       "      <td>1</td>\n",
       "    </tr>\n",
       "    <tr>\n",
       "      <th>3</th>\n",
       "      <td>1</td>\n",
       "      <td>c</td>\n",
       "      <td>a</td>\n",
       "      <td>1270.0</td>\n",
       "      <td>9.0</td>\n",
       "      <td>2008.0</td>\n",
       "      <td>0</td>\n",
       "      <td>NaN</td>\n",
       "      <td>NaN</td>\n",
       "      <td>NaN</td>\n",
       "      <td>2</td>\n",
       "      <td>2015-07-28</td>\n",
       "      <td>5011</td>\n",
       "      <td>560</td>\n",
       "      <td>1</td>\n",
       "      <td>1</td>\n",
       "      <td>0</td>\n",
       "      <td>1</td>\n",
       "    </tr>\n",
       "    <tr>\n",
       "      <th>4</th>\n",
       "      <td>1</td>\n",
       "      <td>c</td>\n",
       "      <td>a</td>\n",
       "      <td>1270.0</td>\n",
       "      <td>9.0</td>\n",
       "      <td>2008.0</td>\n",
       "      <td>0</td>\n",
       "      <td>NaN</td>\n",
       "      <td>NaN</td>\n",
       "      <td>NaN</td>\n",
       "      <td>1</td>\n",
       "      <td>2015-07-27</td>\n",
       "      <td>6102</td>\n",
       "      <td>612</td>\n",
       "      <td>1</td>\n",
       "      <td>1</td>\n",
       "      <td>0</td>\n",
       "      <td>1</td>\n",
       "    </tr>\n",
       "  </tbody>\n",
       "</table>\n",
       "</div>"
      ],
      "text/plain": [
       "   Store StoreType Assortment  CompetitionDistance  CompetitionOpenSinceMonth  \\\n",
       "0      1         c          a               1270.0                        9.0   \n",
       "1      1         c          a               1270.0                        9.0   \n",
       "2      1         c          a               1270.0                        9.0   \n",
       "3      1         c          a               1270.0                        9.0   \n",
       "4      1         c          a               1270.0                        9.0   \n",
       "\n",
       "   CompetitionOpenSinceYear  Promo2  Promo2SinceWeek  Promo2SinceYear  \\\n",
       "0                    2008.0       0              NaN              NaN   \n",
       "1                    2008.0       0              NaN              NaN   \n",
       "2                    2008.0       0              NaN              NaN   \n",
       "3                    2008.0       0              NaN              NaN   \n",
       "4                    2008.0       0              NaN              NaN   \n",
       "\n",
       "  PromoInterval  DayOfWeek        Date  Sales  Customers  Open  Promo  \\\n",
       "0           NaN          5  2015-07-31   5263        555     1      1   \n",
       "1           NaN          4  2015-07-30   5020        546     1      1   \n",
       "2           NaN          3  2015-07-29   4782        523     1      1   \n",
       "3           NaN          2  2015-07-28   5011        560     1      1   \n",
       "4           NaN          1  2015-07-27   6102        612     1      1   \n",
       "\n",
       "  StateHoliday  SchoolHoliday  \n",
       "0            0              1  \n",
       "1            0              1  \n",
       "2            0              1  \n",
       "3            0              1  \n",
       "4            0              1  "
      ]
     },
     "execution_count": 4,
     "metadata": {},
     "output_type": "execute_result"
    }
   ],
   "source": [
    "combined_data = pd.merge(store_data,train_data,on='Store')\n",
    "combined_data.head(5)"
   ]
  },
  {
   "cell_type": "markdown",
   "id": "c400953e",
   "metadata": {},
   "source": [
    "## Exploring Data Analysis"
   ]
  },
  {
   "cell_type": "code",
   "execution_count": 5,
   "id": "b99eb973",
   "metadata": {},
   "outputs": [
    {
     "data": {
      "text/plain": [
       "(1017209, 18)"
      ]
     },
     "execution_count": 5,
     "metadata": {},
     "output_type": "execute_result"
    }
   ],
   "source": [
    "combined_data.shape"
   ]
  },
  {
   "cell_type": "code",
   "execution_count": 6,
   "id": "1426095c",
   "metadata": {},
   "outputs": [
    {
     "data": {
      "text/plain": [
       "Store                         0.000000\n",
       "StoreType                     0.000000\n",
       "Assortment                    0.000000\n",
       "CompetitionDistance           0.259730\n",
       "CompetitionOpenSinceMonth    31.787764\n",
       "CompetitionOpenSinceYear     31.787764\n",
       "Promo2                        0.000000\n",
       "Promo2SinceWeek              49.943620\n",
       "Promo2SinceYear              49.943620\n",
       "PromoInterval                49.943620\n",
       "DayOfWeek                     0.000000\n",
       "Date                          0.000000\n",
       "Sales                         0.000000\n",
       "Customers                     0.000000\n",
       "Open                          0.000000\n",
       "Promo                         0.000000\n",
       "StateHoliday                  0.000000\n",
       "SchoolHoliday                 0.000000\n",
       "dtype: float64"
      ]
     },
     "execution_count": 6,
     "metadata": {},
     "output_type": "execute_result"
    }
   ],
   "source": [
    "# Checking for null values\n",
    "combined_data.isnull().mean()*100"
   ]
  },
  {
   "cell_type": "code",
   "execution_count": 7,
   "id": "7ad51094",
   "metadata": {},
   "outputs": [
    {
     "name": "stdout",
     "output_type": "stream",
     "text": [
      "Unique values in column : [   1    2    3 ... 1113 1114 1115]\n",
      "Unique values in column : ['c' 'a' 'd' 'b']\n",
      "Unique values in column : ['a' 'c' 'b']\n",
      "Unique values in column : [ 9. 11. 12.  4. 10.  8. nan  3.  6.  5.  1.  2.  7.]\n",
      "Unique values in column : [2008. 2007. 2006. 2009. 2015. 2013. 2014. 2000. 2011.   nan 2010. 2005.\n",
      " 1999. 2003. 2012. 2004. 2002. 1961. 1995. 2001. 1990. 1994. 1900. 1998.]\n",
      "Unique values in column : [0 1]\n",
      "Unique values in column : [nan 13. 14.  1. 45. 40. 26. 22.  5.  6. 10. 31. 37.  9. 39. 27. 18. 35.\n",
      " 23. 48. 36. 50. 44. 49. 28.]\n",
      "Unique values in column : [  nan 2010. 2011. 2012. 2009. 2014. 2015. 2013.]\n",
      "Unique values in column : [nan 'Jan,Apr,Jul,Oct' 'Feb,May,Aug,Nov' 'Mar,Jun,Sept,Dec']\n",
      "Unique values in column : [5 4 3 2 1 7 6]\n",
      "Unique values in column : [ 5263  5020  4782 ... 20362 18841 21237]\n",
      "Unique values in column : [ 555  546  523 ... 3727 4022 4106]\n",
      "Unique values in column : [1 0]\n",
      "Unique values in column : [1 0]\n",
      "Unique values in column : ['0' 'a' 'b' 'c' 0]\n",
      "Unique values in column : [1 0]\n"
     ]
    }
   ],
   "source": [
    "# Unique values\n",
    "columns = list(combined_data.columns)\n",
    "columns.remove('Date')\n",
    "columns.remove('CompetitionDistance')\n",
    "for i in columns:\n",
    "    print('Unique values in column :',combined_data[i].unique())"
   ]
  },
  {
   "cell_type": "markdown",
   "id": "d7521b91",
   "metadata": {},
   "source": [
    "## Data Visualization"
   ]
  },
  {
   "cell_type": "code",
   "execution_count": 20,
   "id": "e7b04b03",
   "metadata": {},
   "outputs": [
    {
     "data": {
      "image/png": "[encoded data removed]",
      "text/plain": [
       "<Figure size 432x288 with 1 Axes>"
      ]
     },
     "metadata": {
      "needs_background": "light"
     },
     "output_type": "display_data"
    }
   ],
   "source": [
    "# extracting year and month from Date \n",
    "combined_data['year'] = combined_data['Date'].apply(lambda x : int(str(x)[0:4]))\n",
    "combined_data['month'] = combined_data['Date'].apply(lambda x : int(str(x)[5:7]))\n",
    "\n",
    "# Sales with respect to year \n",
    "sns.barplot(x='year', y='Sales', data=combined_data).set(title='Year vs Sales')\n",
    "# sns.barplot(x='month',y='Sales', data=combined_data).set(title='Month vs Sales')\n",
    "\n",
    "plt.show()"
   ]
  },
  {
   "cell_type": "markdown",
   "id": "1dffa9ae",
   "metadata": {},
   "source": [
    "#### Observation:\n",
    "Sales have been increasing year to year"
   ]
  },
  {
   "cell_type": "code",
   "execution_count": 23,
   "id": "5401d5f6",
   "metadata": {},
   "outputs": [
    {
     "data": {
      "text/plain": [
       "[Text(0.5, 1.0, 'Sales vs Day of Week')]"
      ]
     },
     "execution_count": 23,
     "metadata": {},
     "output_type": "execute_result"
    },
    {
     "data": {
      "image/png": "[encoded data removed]",
      "text/plain": [
       "<Figure size 432x288 with 1 Axes>"
      ]
     },
     "metadata": {
      "needs_background": "light"
     },
     "output_type": "display_data"
    }
   ],
   "source": [
    "sns.barplot(x='DayOfWeek',y='Sales',data=combined_data).set(title='Sales vs Day of Week')"
   ]
  },
  {
   "cell_type": "markdown",
   "id": "2f6c9b39",
   "metadata": {},
   "source": [
    "#### Observation\n",
    "Sales on 1 (Monday) and 5 (Friday) are the highest"
   ]
  },
  {
   "cell_type": "code",
   "execution_count": 25,
   "id": "133d2c24",
   "metadata": {},
   "outputs": [
    {
     "data": {
      "text/plain": [
       "[Text(0.5, 1.0, 'Sales on Promo')]"
      ]
     },
     "execution_count": 25,
     "metadata": {},
     "output_type": "execute_result"
    },
    {
     "data": {
      "image/png": "[encoded data removed]",
      "text/plain": [
       "<Figure size 432x288 with 1 Axes>"
      ]
     },
     "metadata": {
      "needs_background": "light"
     },
     "output_type": "display_data"
    }
   ],
   "source": [
    "# Lets see how promo is impacting sales\n",
    "sns.barplot(x='Promo',y='Sales',data=combined_data).set(title='Sales on Promo')"
   ]
  },
  {
   "cell_type": "markdown",
   "id": "bf78cd11",
   "metadata": {},
   "source": [
    "#### Observation:\n",
    "Customers are definately attracted by Promo codes thus sales are higher when there is a Promo code in a Store"
   ]
  },
  {
   "cell_type": "code",
   "execution_count": 26,
   "id": "127fb2d4",
   "metadata": {},
   "outputs": [
    {
     "name": "stderr",
     "output_type": "stream",
     "text": [
      "C:\\ProgramData\\Anaconda3\\lib\\site-packages\\pandas\\core\\indexing.py:1637: SettingWithCopyWarning: \n",
      "A value is trying to be set on a copy of a slice from a DataFrame\n",
      "\n",
      "See the caveats in the documentation: https://pandas.pydata.org/pandas-docs/stable/user_guide/indexing.html#returning-a-view-versus-a-copy\n",
      "  self._setitem_single_block(indexer, value, name)\n"
     ]
    },
    {
     "data": {
      "image/png": "[encoded data removed]",
      "text/plain": [
       "<Figure size 432x288 with 1 Axes>"
      ]
     },
     "metadata": {
      "needs_background": "light"
     },
     "output_type": "display_data"
    }
   ],
   "source": [
    "# StateHoliday column has values 0 & \"0\", So, we need to change values with 0 to \"0\"\n",
    "\n",
    "combined_data['StateHoliday'].loc[combined_data['StateHoliday'] == 0] = '0'\n",
    "\n",
    "# Sales with respect to State Holiday\n",
    "sns.barplot(x='StateHoliday', y='Sales', data=combined_data).set(title='State Holiday vs Sales')\n",
    "plt.show()"
   ]
  },
  {
   "cell_type": "markdown",
   "id": "6e29a08f",
   "metadata": {},
   "source": [
    "#### Observation:\n",
    "\n",
    "Most stores are closed on State Holidays that's why we can see that there are very less sales in a,b,c \n",
    "\n",
    "where\n",
    "\n",
    "a = Public Holiday,\n",
    "b = Easter Holiday,\n",
    "c = Chirstmas,\n",
    "0 = No Holiday, Working day"
   ]
  },
  {
   "cell_type": "code",
   "execution_count": 27,
   "id": "ecc1a563",
   "metadata": {},
   "outputs": [
    {
     "data": {
      "text/plain": [
       "[Text(0.5, 1.0, 'School Holiday vs Sales')]"
      ]
     },
     "execution_count": 27,
     "metadata": {},
     "output_type": "execute_result"
    },
    {
     "data": {
      "image/png": "[encoded data removed]",
      "text/plain": [
       "<Figure size 432x288 with 1 Axes>"
      ]
     },
     "metadata": {
      "needs_background": "light"
     },
     "output_type": "display_data"
    }
   ],
   "source": [
    "# Sales with respect to School Holiday\n",
    "sns.barplot(x='SchoolHoliday', y='Sales', data=combined_data).set(title='School Holiday vs Sales')"
   ]
  },
  {
   "cell_type": "markdown",
   "id": "8f665ae1",
   "metadata": {},
   "source": [
    "#### Observation:\n",
    "On School Holidays there are more sales"
   ]
  },
  {
   "cell_type": "code",
   "execution_count": 28,
   "id": "f6ce7d3d",
   "metadata": {},
   "outputs": [
    {
     "data": {
      "text/plain": [
       "[Text(0.5, 1.0, 'StoreType vs Sales')]"
      ]
     },
     "execution_count": 28,
     "metadata": {},
     "output_type": "execute_result"
    },
    {
     "data": {
      "image/png": "[encoded data removed]",
      "text/plain": [
       "<Figure size 432x288 with 1 Axes>"
      ]
     },
     "metadata": {
      "needs_background": "light"
     },
     "output_type": "display_data"
    }
   ],
   "source": [
    "# Sales with respect to Storetype\n",
    "sns.barplot(x='StoreType', y='Sales', data=combined_data).set(title='StoreType vs Sales')"
   ]
  },
  {
   "cell_type": "markdown",
   "id": "2f9dbd44",
   "metadata": {},
   "source": [
    "#### Observation:\n",
    "Of all a,b,c,d are store models b type stores have the highest sales"
   ]
  },
  {
   "cell_type": "code",
   "execution_count": 29,
   "id": "29390bc4",
   "metadata": {},
   "outputs": [
    {
     "data": {
      "text/plain": [
       "[Text(0.5, 1.0, 'Assortment vs Sales')]"
      ]
     },
     "execution_count": 29,
     "metadata": {},
     "output_type": "execute_result"
    },
    {
     "data": {
      "image/png": "[encoded data removed]",
      "text/plain": [
       "<Figure size 432x288 with 1 Axes>"
      ]
     },
     "metadata": {
      "needs_background": "light"
     },
     "output_type": "display_data"
    }
   ],
   "source": [
    "# Sales with respect to Assortment\n",
    "sns.barplot(x='Assortment', y='Sales', data=combined_data).set(title='Assortment vs Sales')"
   ]
  },
  {
   "cell_type": "markdown",
   "id": "abffa4e4",
   "metadata": {},
   "source": [
    "#### Observation:\n",
    "Assortment level 'b' have the highest sales"
   ]
  },
  {
   "cell_type": "markdown",
   "id": "93ec78dd",
   "metadata": {},
   "source": [
    "### Filling Missing Values and Removing Outliers\n",
    "Few columns have high number of missing values, so we need to fill them with appropriate method for better result.\n",
    "\n",
    "##### Approach\n",
    "1: The null values in Column Promo2SinceWeek, Promo2SinceYear, PromoInterval is due to Promo2 is 0 for those stores. So we would fill all the null values in these columns with 0.\n",
    "\n",
    "2: Since Competition Distance for 3 stores isn't given so we could fill it with mean of the distance given for all other stores\n",
    "\n",
    "3: CompetitionOpenSinceMonth, CompetitionOpenSinceYear can be filled using the most occuring month and year respectively."
   ]
  },
  {
   "cell_type": "code",
   "execution_count": 8,
   "id": "1516f462",
   "metadata": {},
   "outputs": [
    {
     "data": {
      "text/plain": [
       "Store                          0\n",
       "StoreType                      0\n",
       "Assortment                     0\n",
       "CompetitionDistance            3\n",
       "CompetitionOpenSinceMonth    354\n",
       "CompetitionOpenSinceYear     354\n",
       "Promo2                         0\n",
       "Promo2SinceWeek              544\n",
       "Promo2SinceYear              544\n",
       "PromoInterval                544\n",
       "dtype: int64"
      ]
     },
     "execution_count": 8,
     "metadata": {},
     "output_type": "execute_result"
    }
   ],
   "source": [
    "store_data.isnull().sum()"
   ]
  },
  {
   "cell_type": "code",
   "execution_count": 9,
   "id": "e4568641",
   "metadata": {},
   "outputs": [
    {
     "data": {
      "text/plain": [
       "Store            0\n",
       "DayOfWeek        0\n",
       "Date             0\n",
       "Sales            0\n",
       "Customers        0\n",
       "Open             0\n",
       "Promo            0\n",
       "StateHoliday     0\n",
       "SchoolHoliday    0\n",
       "dtype: int64"
      ]
     },
     "execution_count": 9,
     "metadata": {},
     "output_type": "execute_result"
    }
   ],
   "source": [
    "train_data.isnull().sum()"
   ]
  },
  {
   "cell_type": "markdown",
   "id": "bfb657d9",
   "metadata": {},
   "source": [
    "#### Observation:\n",
    "Here we can clearly see that only store data has null values in it and we need to fill missing values in store data"
   ]
  },
  {
   "cell_type": "code",
   "execution_count": 17,
   "id": "8c247a43",
   "metadata": {},
   "outputs": [],
   "source": [
    "# Filling Promo2SinceWeek, Promo2SinceYear, PromoInterval with 0\n",
    "store_data.update(store_data[['Promo2SinceWeek','Promo2SinceYear','PromoInterval']].fillna(value=0,inplace=True))"
   ]
  },
  {
   "cell_type": "code",
   "execution_count": 21,
   "id": "609905a2",
   "metadata": {},
   "outputs": [],
   "source": [
    "# Filling CompetitionDistance with mean distance\n",
    "mean_CompetitionDistance = store_data['CompetitionDistance'].mean()\n",
    "store_data.update(store_data['CompetitionDistance'].fillna(value=mean_CompetitionDistance,inplace=True))"
   ]
  },
  {
   "cell_type": "code",
   "execution_count": 22,
   "id": "219d4df0",
   "metadata": {},
   "outputs": [
    {
     "data": {
      "text/plain": [
       "Store                        0\n",
       "StoreType                    0\n",
       "Assortment                   0\n",
       "CompetitionDistance          0\n",
       "CompetitionOpenSinceMonth    0\n",
       "CompetitionOpenSinceYear     0\n",
       "Promo2                       0\n",
       "Promo2SinceWeek              0\n",
       "Promo2SinceYear              0\n",
       "PromoInterval                0\n",
       "dtype: int64"
      ]
     },
     "execution_count": 22,
     "metadata": {},
     "output_type": "execute_result"
    }
   ],
   "source": [
    "# Filling CompetitionOpenSinceMonth, CompetitionOpenSinceYear with most occuring month and year respectively\n",
    "mode_CompetitionOpenSinceMonth = store_data['CompetitionOpenSinceMonth'].mode()[0]\n",
    "mode_CompetitionOpenSinceYear = store_data['CompetitionOpenSinceYear'].mode()[0]\n",
    "\n",
    "store_data.update(store_data['CompetitionOpenSinceMonth'].fillna(value=mode_CompetitionOpenSinceMonth,inplace=True))\n",
    "store_data.update(store_data['CompetitionOpenSinceYear'].fillna(value=mode_CompetitionOpenSinceYear,inplace=True))\n",
    "\n",
    "store_data.isnull().sum()"
   ]
  },
  {
   "cell_type": "code",
   "execution_count": 24,
   "id": "46e90c24",
   "metadata": {},
   "outputs": [
    {
     "name": "stdout",
     "output_type": "stream",
     "text": [
      "(1017209, 18)\n"
     ]
    },
    {
     "data": {
      "text/html": [
       "<div>\n",
       "<style scoped>\n",
       "    .dataframe tbody tr th:only-of-type {\n",
       "        vertical-align: middle;\n",
       "    }\n",
       "\n",
       "    .dataframe tbody tr th {\n",
       "        vertical-align: top;\n",
       "    }\n",
       "\n",
       "    .dataframe thead th {\n",
       "        text-align: right;\n",
       "    }\n",
       "</style>\n",
       "<table border=\"1\" class=\"dataframe\">\n",
       "  <thead>\n",
       "    <tr style=\"text-align: right;\">\n",
       "      <th></th>\n",
       "      <th>Store</th>\n",
       "      <th>StoreType</th>\n",
       "      <th>Assortment</th>\n",
       "      <th>CompetitionDistance</th>\n",
       "      <th>CompetitionOpenSinceMonth</th>\n",
       "      <th>CompetitionOpenSinceYear</th>\n",
       "      <th>Promo2</th>\n",
       "      <th>Promo2SinceWeek</th>\n",
       "      <th>Promo2SinceYear</th>\n",
       "      <th>PromoInterval</th>\n",
       "      <th>DayOfWeek</th>\n",
       "      <th>Date</th>\n",
       "      <th>Sales</th>\n",
       "      <th>Customers</th>\n",
       "      <th>Open</th>\n",
       "      <th>Promo</th>\n",
       "      <th>StateHoliday</th>\n",
       "      <th>SchoolHoliday</th>\n",
       "    </tr>\n",
       "  </thead>\n",
       "  <tbody>\n",
       "    <tr>\n",
       "      <th>0</th>\n",
       "      <td>1</td>\n",
       "      <td>c</td>\n",
       "      <td>a</td>\n",
       "      <td>1270.0</td>\n",
       "      <td>9.0</td>\n",
       "      <td>2008.0</td>\n",
       "      <td>0</td>\n",
       "      <td>0.0</td>\n",
       "      <td>0.0</td>\n",
       "      <td>0</td>\n",
       "      <td>5</td>\n",
       "      <td>2015-07-31</td>\n",
       "      <td>5263</td>\n",
       "      <td>555</td>\n",
       "      <td>1</td>\n",
       "      <td>1</td>\n",
       "      <td>0</td>\n",
       "      <td>1</td>\n",
       "    </tr>\n",
       "    <tr>\n",
       "      <th>1</th>\n",
       "      <td>1</td>\n",
       "      <td>c</td>\n",
       "      <td>a</td>\n",
       "      <td>1270.0</td>\n",
       "      <td>9.0</td>\n",
       "      <td>2008.0</td>\n",
       "      <td>0</td>\n",
       "      <td>0.0</td>\n",
       "      <td>0.0</td>\n",
       "      <td>0</td>\n",
       "      <td>4</td>\n",
       "      <td>2015-07-30</td>\n",
       "      <td>5020</td>\n",
       "      <td>546</td>\n",
       "      <td>1</td>\n",
       "      <td>1</td>\n",
       "      <td>0</td>\n",
       "      <td>1</td>\n",
       "    </tr>\n",
       "    <tr>\n",
       "      <th>2</th>\n",
       "      <td>1</td>\n",
       "      <td>c</td>\n",
       "      <td>a</td>\n",
       "      <td>1270.0</td>\n",
       "      <td>9.0</td>\n",
       "      <td>2008.0</td>\n",
       "      <td>0</td>\n",
       "      <td>0.0</td>\n",
       "      <td>0.0</td>\n",
       "      <td>0</td>\n",
       "      <td>3</td>\n",
       "      <td>2015-07-29</td>\n",
       "      <td>4782</td>\n",
       "      <td>523</td>\n",
       "      <td>1</td>\n",
       "      <td>1</td>\n",
       "      <td>0</td>\n",
       "      <td>1</td>\n",
       "    </tr>\n",
       "    <tr>\n",
       "      <th>3</th>\n",
       "      <td>1</td>\n",
       "      <td>c</td>\n",
       "      <td>a</td>\n",
       "      <td>1270.0</td>\n",
       "      <td>9.0</td>\n",
       "      <td>2008.0</td>\n",
       "      <td>0</td>\n",
       "      <td>0.0</td>\n",
       "      <td>0.0</td>\n",
       "      <td>0</td>\n",
       "      <td>2</td>\n",
       "      <td>2015-07-28</td>\n",
       "      <td>5011</td>\n",
       "      <td>560</td>\n",
       "      <td>1</td>\n",
       "      <td>1</td>\n",
       "      <td>0</td>\n",
       "      <td>1</td>\n",
       "    </tr>\n",
       "    <tr>\n",
       "      <th>4</th>\n",
       "      <td>1</td>\n",
       "      <td>c</td>\n",
       "      <td>a</td>\n",
       "      <td>1270.0</td>\n",
       "      <td>9.0</td>\n",
       "      <td>2008.0</td>\n",
       "      <td>0</td>\n",
       "      <td>0.0</td>\n",
       "      <td>0.0</td>\n",
       "      <td>0</td>\n",
       "      <td>1</td>\n",
       "      <td>2015-07-27</td>\n",
       "      <td>6102</td>\n",
       "      <td>612</td>\n",
       "      <td>1</td>\n",
       "      <td>1</td>\n",
       "      <td>0</td>\n",
       "      <td>1</td>\n",
       "    </tr>\n",
       "  </tbody>\n",
       "</table>\n",
       "</div>"
      ],
      "text/plain": [
       "   Store StoreType Assortment  CompetitionDistance  CompetitionOpenSinceMonth  \\\n",
       "0      1         c          a               1270.0                        9.0   \n",
       "1      1         c          a               1270.0                        9.0   \n",
       "2      1         c          a               1270.0                        9.0   \n",
       "3      1         c          a               1270.0                        9.0   \n",
       "4      1         c          a               1270.0                        9.0   \n",
       "\n",
       "   CompetitionOpenSinceYear  Promo2  Promo2SinceWeek  Promo2SinceYear  \\\n",
       "0                    2008.0       0              0.0              0.0   \n",
       "1                    2008.0       0              0.0              0.0   \n",
       "2                    2008.0       0              0.0              0.0   \n",
       "3                    2008.0       0              0.0              0.0   \n",
       "4                    2008.0       0              0.0              0.0   \n",
       "\n",
       "  PromoInterval  DayOfWeek        Date  Sales  Customers  Open  Promo  \\\n",
       "0             0          5  2015-07-31   5263        555     1      1   \n",
       "1             0          4  2015-07-30   5020        546     1      1   \n",
       "2             0          3  2015-07-29   4782        523     1      1   \n",
       "3             0          2  2015-07-28   5011        560     1      1   \n",
       "4             0          1  2015-07-27   6102        612     1      1   \n",
       "\n",
       "  StateHoliday  SchoolHoliday  \n",
       "0            0              1  \n",
       "1            0              1  \n",
       "2            0              1  \n",
       "3            0              1  \n",
       "4            0              1  "
      ]
     },
     "execution_count": 24,
     "metadata": {},
     "output_type": "execute_result"
    }
   ],
   "source": [
    "combined_data = pd.merge(store_data,train_data,on='Store')\n",
    "print(combined_data.shape)\n",
    "combined_data.head(5)"
   ]
  },
  {
   "cell_type": "code",
   "execution_count": 25,
   "id": "c04867ad",
   "metadata": {},
   "outputs": [
    {
     "data": {
      "text/plain": [
       "Store                        0.0\n",
       "StoreType                    0.0\n",
       "Assortment                   0.0\n",
       "CompetitionDistance          0.0\n",
       "CompetitionOpenSinceMonth    0.0\n",
       "CompetitionOpenSinceYear     0.0\n",
       "Promo2                       0.0\n",
       "Promo2SinceWeek              0.0\n",
       "Promo2SinceYear              0.0\n",
       "PromoInterval                0.0\n",
       "DayOfWeek                    0.0\n",
       "Date                         0.0\n",
       "Sales                        0.0\n",
       "Customers                    0.0\n",
       "Open                         0.0\n",
       "Promo                        0.0\n",
       "StateHoliday                 0.0\n",
       "SchoolHoliday                0.0\n",
       "dtype: float64"
      ]
     },
     "execution_count": 25,
     "metadata": {},
     "output_type": "execute_result"
    }
   ],
   "source": [
    "combined_data.isnull().mean()*100"
   ]
  },
  {
   "cell_type": "markdown",
   "id": "92673bcb",
   "metadata": {},
   "source": [
    "#### Great ! We don't have any null values, we can proceed further"
   ]
  },
  {
   "cell_type": "code",
   "execution_count": 27,
   "id": "c7002ce1",
   "metadata": {},
   "outputs": [
    {
     "data": {
      "text/plain": [
       "<AxesSubplot:xlabel='CompetitionDistance', ylabel='Sales'>"
      ]
     },
     "execution_count": 27,
     "metadata": {},
     "output_type": "execute_result"
    },
    {
     "data": {
      "image/png": "[encoded data removed]",
      "text/plain": [
       "<Figure size 720x432 with 1 Axes>"
      ]
     },
     "metadata": {
      "needs_background": "light"
     },
     "output_type": "display_data"
    }
   ],
   "source": [
    "combined_data.plot(x='CompetitionDistance',y='Sales',kind='scatter',figsize =(10,6))"
   ]
  },
  {
   "cell_type": "markdown",
   "id": "e4c47d92",
   "metadata": {},
   "source": [
    "#### Observation:\n",
    "From the above plot we can say that more nearer the compitetor store are the more sales in Rossman stores.\n",
    "\n",
    "## Finding Outliers"
   ]
  },
  {
   "cell_type": "code",
   "execution_count": 31,
   "id": "ae8b4e1e",
   "metadata": {},
   "outputs": [
    {
     "data": {
      "text/plain": [
       "<seaborn.axisgrid.FacetGrid at 0x2162411f730>"
      ]
     },
     "execution_count": 31,
     "metadata": {},
     "output_type": "execute_result"
    },
    {
     "data": {
      "image/png": "[encoded data removed]",
      "text/plain": [
       "<Figure size 360x360 with 1 Axes>"
      ]
     },
     "metadata": {
      "needs_background": "light"
     },
     "output_type": "display_data"
    }
   ],
   "source": [
    "sns.displot(combined_data,x='Sales',bins=60)"
   ]
  },
  {
   "cell_type": "markdown",
   "id": "54ca6e42",
   "metadata": {},
   "source": [
    "#### Observation:\n",
    "As we can see in the distribution plot Sales greater than 25k are very less,therefore they might be the outliers.\n",
    "\n",
    "### Z-Score: If the Z-Score of any datapoint is greater than 3(threshold) then that can be considered as an Outlier"
   ]
  },
  {
   "cell_type": "code",
   "execution_count": 37,
   "id": "f717df91",
   "metadata": {},
   "outputs": [
    {
     "name": "stdout",
     "output_type": "stream",
     "text": [
      "Total No.of outliers in dataset:  9731\n"
     ]
    },
    {
     "data": {
      "text/plain": [
       "<seaborn.axisgrid.FacetGrid at 0x21626126040>"
      ]
     },
     "execution_count": 37,
     "metadata": {},
     "output_type": "execute_result"
    },
    {
     "data": {
      "image/png": "[encoded data removed]",
      "text/plain": [
       "<Figure size 360x360 with 1 Axes>"
      ]
     },
     "metadata": {
      "needs_background": "light"
     },
     "output_type": "display_data"
    }
   ],
   "source": [
    "mean_sales = np.mean(combined_data['Sales'])\n",
    "std_sales = np.std(combined_data['Sales'])\n",
    "\n",
    "threshold = 3\n",
    "\n",
    "outliers = []\n",
    "for i in combined_data['Sales']:\n",
    "    z_score = (i-mean_sales)/std_sales\n",
    "    if z_score > threshold:\n",
    "        outliers.append(i)\n",
    "        \n",
    "print('Total No.of outliers in dataset: ', len(outliers))\n",
    "\n",
    "sns.displot(x=outliers,bins=20).set(title='Outliers Distribution')"
   ]
  },
  {
   "cell_type": "code",
   "execution_count": 48,
   "id": "819c2bc0",
   "metadata": {},
   "outputs": [
    {
     "name": "stdout",
     "output_type": "stream",
     "text": [
      "Length of the dataset: 1017209\n",
      "Percentage of Zeros in dataset: 16.995%\n",
      "Percentage of sales greater than 25k in dataset: 0.075% \n"
     ]
    }
   ],
   "source": [
    "# Percentage of Outliers \n",
    "zero_sales = combined_data.loc[combined_data['Sales']==0]\n",
    "\n",
    "sales_greater_than_25k = combined_data.loc[combined_data['Sales'] > 25000]\n",
    "\n",
    "print('Length of the dataset:', len(combined_data))\n",
    "print('Percentage of Zeros in dataset: %.3f%%' %((len(zero_sales)/len(combined_data))*100))\n",
    "print('Percentage of sales greater than 25k in dataset: %.3f%% ' %((len(sales_greater_than_25k)/len(combined_data))*100))"
   ]
  },
  {
   "cell_type": "markdown",
   "id": "eea8e37a",
   "metadata": {},
   "source": [
    "#### Obervation:\n",
    "We can drop the sales datapoints which are greater than 25k as they are very less percentage of the dataset and are probably outliers"
   ]
  },
  {
   "cell_type": "code",
   "execution_count": 58,
   "id": "3c7484d9",
   "metadata": {},
   "outputs": [],
   "source": [
    "combined_data.drop(combined_data.loc[combined_data['Sales'] > 25000].index,inplace=True)"
   ]
  },
  {
   "cell_type": "code",
   "execution_count": 59,
   "id": "03507d1a",
   "metadata": {},
   "outputs": [
    {
     "data": {
      "text/plain": [
       "(1016451, 18)"
      ]
     },
     "execution_count": 59,
     "metadata": {},
     "output_type": "execute_result"
    }
   ],
   "source": [
    "combined_data.shape"
   ]
  },
  {
   "cell_type": "markdown",
   "id": "93700808",
   "metadata": {},
   "source": [
    "### Some exceptional cases\n",
    "Looking for a scenerio where the Stores are open and yet there is no sales on that day"
   ]
  },
  {
   "cell_type": "code",
   "execution_count": 62,
   "id": "7b1f2167",
   "metadata": {},
   "outputs": [
    {
     "name": "stdout",
     "output_type": "stream",
     "text": [
      "(12, 18)\n"
     ]
    },
    {
     "data": {
      "text/html": [
       "<div>\n",
       "<style scoped>\n",
       "    .dataframe tbody tr th:only-of-type {\n",
       "        vertical-align: middle;\n",
       "    }\n",
       "\n",
       "    .dataframe tbody tr th {\n",
       "        vertical-align: top;\n",
       "    }\n",
       "\n",
       "    .dataframe thead th {\n",
       "        text-align: right;\n",
       "    }\n",
       "</style>\n",
       "<table border=\"1\" class=\"dataframe\">\n",
       "  <thead>\n",
       "    <tr style=\"text-align: right;\">\n",
       "      <th></th>\n",
       "      <th>Store</th>\n",
       "      <th>StoreType</th>\n",
       "      <th>Assortment</th>\n",
       "      <th>CompetitionDistance</th>\n",
       "      <th>CompetitionOpenSinceMonth</th>\n",
       "      <th>CompetitionOpenSinceYear</th>\n",
       "      <th>Promo2</th>\n",
       "      <th>Promo2SinceWeek</th>\n",
       "      <th>Promo2SinceYear</th>\n",
       "      <th>PromoInterval</th>\n",
       "      <th>DayOfWeek</th>\n",
       "      <th>Date</th>\n",
       "      <th>Sales</th>\n",
       "      <th>Customers</th>\n",
       "      <th>Open</th>\n",
       "      <th>Promo</th>\n",
       "      <th>StateHoliday</th>\n",
       "      <th>SchoolHoliday</th>\n",
       "    </tr>\n",
       "  </thead>\n",
       "  <tbody>\n",
       "    <tr>\n",
       "      <th>22589</th>\n",
       "      <td>25</td>\n",
       "      <td>c</td>\n",
       "      <td>a</td>\n",
       "      <td>430.0</td>\n",
       "      <td>4.0</td>\n",
       "      <td>2003.0</td>\n",
       "      <td>0</td>\n",
       "      <td>0.0</td>\n",
       "      <td>0.0</td>\n",
       "      <td>0</td>\n",
       "      <td>4</td>\n",
       "      <td>2014-02-13</td>\n",
       "      <td>0</td>\n",
       "      <td>0</td>\n",
       "      <td>1</td>\n",
       "      <td>0</td>\n",
       "      <td>0</td>\n",
       "      <td>0</td>\n",
       "    </tr>\n",
       "    <tr>\n",
       "      <th>22590</th>\n",
       "      <td>25</td>\n",
       "      <td>c</td>\n",
       "      <td>a</td>\n",
       "      <td>430.0</td>\n",
       "      <td>4.0</td>\n",
       "      <td>2003.0</td>\n",
       "      <td>0</td>\n",
       "      <td>0.0</td>\n",
       "      <td>0.0</td>\n",
       "      <td>0</td>\n",
       "      <td>3</td>\n",
       "      <td>2014-02-12</td>\n",
       "      <td>0</td>\n",
       "      <td>0</td>\n",
       "      <td>1</td>\n",
       "      <td>0</td>\n",
       "      <td>0</td>\n",
       "      <td>0</td>\n",
       "    </tr>\n",
       "    <tr>\n",
       "      <th>25212</th>\n",
       "      <td>28</td>\n",
       "      <td>a</td>\n",
       "      <td>a</td>\n",
       "      <td>1200.0</td>\n",
       "      <td>10.0</td>\n",
       "      <td>2014.0</td>\n",
       "      <td>1</td>\n",
       "      <td>6.0</td>\n",
       "      <td>2015.0</td>\n",
       "      <td>Mar,Jun,Sept,Dec</td>\n",
       "      <td>4</td>\n",
       "      <td>2014-09-04</td>\n",
       "      <td>0</td>\n",
       "      <td>0</td>\n",
       "      <td>1</td>\n",
       "      <td>1</td>\n",
       "      <td>0</td>\n",
       "      <td>0</td>\n",
       "    </tr>\n",
       "    <tr>\n",
       "      <th>205303</th>\n",
       "      <td>227</td>\n",
       "      <td>a</td>\n",
       "      <td>a</td>\n",
       "      <td>2370.0</td>\n",
       "      <td>9.0</td>\n",
       "      <td>2013.0</td>\n",
       "      <td>0</td>\n",
       "      <td>0.0</td>\n",
       "      <td>0.0</td>\n",
       "      <td>0</td>\n",
       "      <td>4</td>\n",
       "      <td>2014-09-11</td>\n",
       "      <td>0</td>\n",
       "      <td>0</td>\n",
       "      <td>1</td>\n",
       "      <td>0</td>\n",
       "      <td>0</td>\n",
       "      <td>0</td>\n",
       "    </tr>\n",
       "    <tr>\n",
       "      <th>297110</th>\n",
       "      <td>327</td>\n",
       "      <td>c</td>\n",
       "      <td>c</td>\n",
       "      <td>1390.0</td>\n",
       "      <td>12.0</td>\n",
       "      <td>2004.0</td>\n",
       "      <td>0</td>\n",
       "      <td>0.0</td>\n",
       "      <td>0.0</td>\n",
       "      <td>0</td>\n",
       "      <td>3</td>\n",
       "      <td>2014-03-12</td>\n",
       "      <td>0</td>\n",
       "      <td>0</td>\n",
       "      <td>1</td>\n",
       "      <td>0</td>\n",
       "      <td>0</td>\n",
       "      <td>0</td>\n",
       "    </tr>\n",
       "  </tbody>\n",
       "</table>\n",
       "</div>"
      ],
      "text/plain": [
       "        Store StoreType Assortment  CompetitionDistance  \\\n",
       "22589      25         c          a                430.0   \n",
       "22590      25         c          a                430.0   \n",
       "25212      28         a          a               1200.0   \n",
       "205303    227         a          a               2370.0   \n",
       "297110    327         c          c               1390.0   \n",
       "\n",
       "        CompetitionOpenSinceMonth  CompetitionOpenSinceYear  Promo2  \\\n",
       "22589                         4.0                    2003.0       0   \n",
       "22590                         4.0                    2003.0       0   \n",
       "25212                        10.0                    2014.0       1   \n",
       "205303                        9.0                    2013.0       0   \n",
       "297110                       12.0                    2004.0       0   \n",
       "\n",
       "        Promo2SinceWeek  Promo2SinceYear     PromoInterval  DayOfWeek  \\\n",
       "22589               0.0              0.0                 0          4   \n",
       "22590               0.0              0.0                 0          3   \n",
       "25212               6.0           2015.0  Mar,Jun,Sept,Dec          4   \n",
       "205303              0.0              0.0                 0          4   \n",
       "297110              0.0              0.0                 0          3   \n",
       "\n",
       "              Date  Sales  Customers  Open  Promo StateHoliday  SchoolHoliday  \n",
       "22589   2014-02-13      0          0     1      0            0              0  \n",
       "22590   2014-02-12      0          0     1      0            0              0  \n",
       "25212   2014-09-04      0          0     1      1            0              0  \n",
       "205303  2014-09-11      0          0     1      0            0              0  \n",
       "297110  2014-03-12      0          0     1      0            0              0  "
      ]
     },
     "execution_count": 62,
     "metadata": {},
     "output_type": "execute_result"
    }
   ],
   "source": [
    "no_sales = combined_data.loc[(combined_data['Sales']==0) & (combined_data['Open'] == 1) & (combined_data['StateHoliday'] == 0) \n",
    "                               & (combined_data['SchoolHoliday'] == 0)]\n",
    "print(no_sales.shape)\n",
    "no_sales.head()"
   ]
  },
  {
   "cell_type": "markdown",
   "id": "cf6c71a2",
   "metadata": {},
   "source": [
    "#### Observation:\n",
    "There are total 12 dates where there is no record of sales even without any holidays. We can remove these data points too as they are an exceptional case"
   ]
  },
  {
   "cell_type": "code",
   "execution_count": 63,
   "id": "e42e9726",
   "metadata": {},
   "outputs": [
    {
     "name": "stdout",
     "output_type": "stream",
     "text": [
      "(1016439, 18)\n"
     ]
    }
   ],
   "source": [
    "combined_data.drop(combined_data.loc[(combined_data['Sales']==0) & (combined_data['Open'] == 1)\n",
    "                                     & (combined_data['StateHoliday'] == 0) & \n",
    "                                     (combined_data['SchoolHoliday'] == 0)].index,inplace=True)\n",
    "print(combined_data.shape)"
   ]
  },
  {
   "cell_type": "code",
   "execution_count": 64,
   "id": "1d43d67e",
   "metadata": {},
   "outputs": [
    {
     "data": {
      "text/html": [
       "<div>\n",
       "<style scoped>\n",
       "    .dataframe tbody tr th:only-of-type {\n",
       "        vertical-align: middle;\n",
       "    }\n",
       "\n",
       "    .dataframe tbody tr th {\n",
       "        vertical-align: top;\n",
       "    }\n",
       "\n",
       "    .dataframe thead th {\n",
       "        text-align: right;\n",
       "    }\n",
       "</style>\n",
       "<table border=\"1\" class=\"dataframe\">\n",
       "  <thead>\n",
       "    <tr style=\"text-align: right;\">\n",
       "      <th></th>\n",
       "      <th>Store</th>\n",
       "      <th>StoreType</th>\n",
       "      <th>Assortment</th>\n",
       "      <th>CompetitionDistance</th>\n",
       "      <th>CompetitionOpenSinceMonth</th>\n",
       "      <th>CompetitionOpenSinceYear</th>\n",
       "      <th>Promo2</th>\n",
       "      <th>Promo2SinceWeek</th>\n",
       "      <th>Promo2SinceYear</th>\n",
       "      <th>PromoInterval</th>\n",
       "      <th>DayOfWeek</th>\n",
       "      <th>Date</th>\n",
       "      <th>Sales</th>\n",
       "      <th>Customers</th>\n",
       "      <th>Open</th>\n",
       "      <th>Promo</th>\n",
       "      <th>StateHoliday</th>\n",
       "      <th>SchoolHoliday</th>\n",
       "    </tr>\n",
       "  </thead>\n",
       "  <tbody>\n",
       "    <tr>\n",
       "      <th>0</th>\n",
       "      <td>1</td>\n",
       "      <td>c</td>\n",
       "      <td>a</td>\n",
       "      <td>1270.0</td>\n",
       "      <td>9.0</td>\n",
       "      <td>2008.0</td>\n",
       "      <td>0</td>\n",
       "      <td>0.0</td>\n",
       "      <td>0.0</td>\n",
       "      <td>0</td>\n",
       "      <td>5</td>\n",
       "      <td>2015-07-31</td>\n",
       "      <td>5263</td>\n",
       "      <td>555</td>\n",
       "      <td>1</td>\n",
       "      <td>1</td>\n",
       "      <td>0</td>\n",
       "      <td>1</td>\n",
       "    </tr>\n",
       "    <tr>\n",
       "      <th>1</th>\n",
       "      <td>1</td>\n",
       "      <td>c</td>\n",
       "      <td>a</td>\n",
       "      <td>1270.0</td>\n",
       "      <td>9.0</td>\n",
       "      <td>2008.0</td>\n",
       "      <td>0</td>\n",
       "      <td>0.0</td>\n",
       "      <td>0.0</td>\n",
       "      <td>0</td>\n",
       "      <td>4</td>\n",
       "      <td>2015-07-30</td>\n",
       "      <td>5020</td>\n",
       "      <td>546</td>\n",
       "      <td>1</td>\n",
       "      <td>1</td>\n",
       "      <td>0</td>\n",
       "      <td>1</td>\n",
       "    </tr>\n",
       "    <tr>\n",
       "      <th>2</th>\n",
       "      <td>1</td>\n",
       "      <td>c</td>\n",
       "      <td>a</td>\n",
       "      <td>1270.0</td>\n",
       "      <td>9.0</td>\n",
       "      <td>2008.0</td>\n",
       "      <td>0</td>\n",
       "      <td>0.0</td>\n",
       "      <td>0.0</td>\n",
       "      <td>0</td>\n",
       "      <td>3</td>\n",
       "      <td>2015-07-29</td>\n",
       "      <td>4782</td>\n",
       "      <td>523</td>\n",
       "      <td>1</td>\n",
       "      <td>1</td>\n",
       "      <td>0</td>\n",
       "      <td>1</td>\n",
       "    </tr>\n",
       "    <tr>\n",
       "      <th>3</th>\n",
       "      <td>1</td>\n",
       "      <td>c</td>\n",
       "      <td>a</td>\n",
       "      <td>1270.0</td>\n",
       "      <td>9.0</td>\n",
       "      <td>2008.0</td>\n",
       "      <td>0</td>\n",
       "      <td>0.0</td>\n",
       "      <td>0.0</td>\n",
       "      <td>0</td>\n",
       "      <td>2</td>\n",
       "      <td>2015-07-28</td>\n",
       "      <td>5011</td>\n",
       "      <td>560</td>\n",
       "      <td>1</td>\n",
       "      <td>1</td>\n",
       "      <td>0</td>\n",
       "      <td>1</td>\n",
       "    </tr>\n",
       "    <tr>\n",
       "      <th>4</th>\n",
       "      <td>1</td>\n",
       "      <td>c</td>\n",
       "      <td>a</td>\n",
       "      <td>1270.0</td>\n",
       "      <td>9.0</td>\n",
       "      <td>2008.0</td>\n",
       "      <td>0</td>\n",
       "      <td>0.0</td>\n",
       "      <td>0.0</td>\n",
       "      <td>0</td>\n",
       "      <td>1</td>\n",
       "      <td>2015-07-27</td>\n",
       "      <td>6102</td>\n",
       "      <td>612</td>\n",
       "      <td>1</td>\n",
       "      <td>1</td>\n",
       "      <td>0</td>\n",
       "      <td>1</td>\n",
       "    </tr>\n",
       "  </tbody>\n",
       "</table>\n",
       "</div>"
      ],
      "text/plain": [
       "   Store StoreType Assortment  CompetitionDistance  CompetitionOpenSinceMonth  \\\n",
       "0      1         c          a               1270.0                        9.0   \n",
       "1      1         c          a               1270.0                        9.0   \n",
       "2      1         c          a               1270.0                        9.0   \n",
       "3      1         c          a               1270.0                        9.0   \n",
       "4      1         c          a               1270.0                        9.0   \n",
       "\n",
       "   CompetitionOpenSinceYear  Promo2  Promo2SinceWeek  Promo2SinceYear  \\\n",
       "0                    2008.0       0              0.0              0.0   \n",
       "1                    2008.0       0              0.0              0.0   \n",
       "2                    2008.0       0              0.0              0.0   \n",
       "3                    2008.0       0              0.0              0.0   \n",
       "4                    2008.0       0              0.0              0.0   \n",
       "\n",
       "  PromoInterval  DayOfWeek        Date  Sales  Customers  Open  Promo  \\\n",
       "0             0          5  2015-07-31   5263        555     1      1   \n",
       "1             0          4  2015-07-30   5020        546     1      1   \n",
       "2             0          3  2015-07-29   4782        523     1      1   \n",
       "3             0          2  2015-07-28   5011        560     1      1   \n",
       "4             0          1  2015-07-27   6102        612     1      1   \n",
       "\n",
       "  StateHoliday  SchoolHoliday  \n",
       "0            0              1  \n",
       "1            0              1  \n",
       "2            0              1  \n",
       "3            0              1  \n",
       "4            0              1  "
      ]
     },
     "execution_count": 64,
     "metadata": {},
     "output_type": "execute_result"
    }
   ],
   "source": [
    "combined_data.head()"
   ]
  },
  {
   "cell_type": "markdown",
   "id": "da626300",
   "metadata": {},
   "source": [
    "### Converting Categorical Variable to Numeric"
   ]
  },
  {
   "cell_type": "code",
   "execution_count": 67,
   "id": "5ff8353c",
   "metadata": {},
   "outputs": [
    {
     "data": {
      "text/html": [
       "<div>\n",
       "<style scoped>\n",
       "    .dataframe tbody tr th:only-of-type {\n",
       "        vertical-align: middle;\n",
       "    }\n",
       "\n",
       "    .dataframe tbody tr th {\n",
       "        vertical-align: top;\n",
       "    }\n",
       "\n",
       "    .dataframe thead th {\n",
       "        text-align: right;\n",
       "    }\n",
       "</style>\n",
       "<table border=\"1\" class=\"dataframe\">\n",
       "  <thead>\n",
       "    <tr style=\"text-align: right;\">\n",
       "      <th></th>\n",
       "      <th>Store</th>\n",
       "      <th>StoreType</th>\n",
       "      <th>Assortment</th>\n",
       "      <th>CompetitionDistance</th>\n",
       "      <th>CompetitionOpenSinceMonth</th>\n",
       "      <th>CompetitionOpenSinceYear</th>\n",
       "      <th>Promo2</th>\n",
       "      <th>Promo2SinceWeek</th>\n",
       "      <th>Promo2SinceYear</th>\n",
       "      <th>PromoInterval</th>\n",
       "      <th>DayOfWeek</th>\n",
       "      <th>Sales</th>\n",
       "      <th>Customers</th>\n",
       "      <th>Open</th>\n",
       "      <th>Promo</th>\n",
       "      <th>StateHoliday</th>\n",
       "      <th>SchoolHoliday</th>\n",
       "      <th>Year</th>\n",
       "      <th>Month</th>\n",
       "    </tr>\n",
       "  </thead>\n",
       "  <tbody>\n",
       "    <tr>\n",
       "      <th>0</th>\n",
       "      <td>1</td>\n",
       "      <td>c</td>\n",
       "      <td>a</td>\n",
       "      <td>1270.0</td>\n",
       "      <td>9.0</td>\n",
       "      <td>2008.0</td>\n",
       "      <td>0</td>\n",
       "      <td>0.0</td>\n",
       "      <td>0.0</td>\n",
       "      <td>0</td>\n",
       "      <td>5</td>\n",
       "      <td>5263</td>\n",
       "      <td>555</td>\n",
       "      <td>1</td>\n",
       "      <td>1</td>\n",
       "      <td>0</td>\n",
       "      <td>1</td>\n",
       "      <td>2015</td>\n",
       "      <td>7</td>\n",
       "    </tr>\n",
       "    <tr>\n",
       "      <th>1</th>\n",
       "      <td>1</td>\n",
       "      <td>c</td>\n",
       "      <td>a</td>\n",
       "      <td>1270.0</td>\n",
       "      <td>9.0</td>\n",
       "      <td>2008.0</td>\n",
       "      <td>0</td>\n",
       "      <td>0.0</td>\n",
       "      <td>0.0</td>\n",
       "      <td>0</td>\n",
       "      <td>4</td>\n",
       "      <td>5020</td>\n",
       "      <td>546</td>\n",
       "      <td>1</td>\n",
       "      <td>1</td>\n",
       "      <td>0</td>\n",
       "      <td>1</td>\n",
       "      <td>2015</td>\n",
       "      <td>7</td>\n",
       "    </tr>\n",
       "    <tr>\n",
       "      <th>2</th>\n",
       "      <td>1</td>\n",
       "      <td>c</td>\n",
       "      <td>a</td>\n",
       "      <td>1270.0</td>\n",
       "      <td>9.0</td>\n",
       "      <td>2008.0</td>\n",
       "      <td>0</td>\n",
       "      <td>0.0</td>\n",
       "      <td>0.0</td>\n",
       "      <td>0</td>\n",
       "      <td>3</td>\n",
       "      <td>4782</td>\n",
       "      <td>523</td>\n",
       "      <td>1</td>\n",
       "      <td>1</td>\n",
       "      <td>0</td>\n",
       "      <td>1</td>\n",
       "      <td>2015</td>\n",
       "      <td>7</td>\n",
       "    </tr>\n",
       "    <tr>\n",
       "      <th>3</th>\n",
       "      <td>1</td>\n",
       "      <td>c</td>\n",
       "      <td>a</td>\n",
       "      <td>1270.0</td>\n",
       "      <td>9.0</td>\n",
       "      <td>2008.0</td>\n",
       "      <td>0</td>\n",
       "      <td>0.0</td>\n",
       "      <td>0.0</td>\n",
       "      <td>0</td>\n",
       "      <td>2</td>\n",
       "      <td>5011</td>\n",
       "      <td>560</td>\n",
       "      <td>1</td>\n",
       "      <td>1</td>\n",
       "      <td>0</td>\n",
       "      <td>1</td>\n",
       "      <td>2015</td>\n",
       "      <td>7</td>\n",
       "    </tr>\n",
       "    <tr>\n",
       "      <th>4</th>\n",
       "      <td>1</td>\n",
       "      <td>c</td>\n",
       "      <td>a</td>\n",
       "      <td>1270.0</td>\n",
       "      <td>9.0</td>\n",
       "      <td>2008.0</td>\n",
       "      <td>0</td>\n",
       "      <td>0.0</td>\n",
       "      <td>0.0</td>\n",
       "      <td>0</td>\n",
       "      <td>1</td>\n",
       "      <td>6102</td>\n",
       "      <td>612</td>\n",
       "      <td>1</td>\n",
       "      <td>1</td>\n",
       "      <td>0</td>\n",
       "      <td>1</td>\n",
       "      <td>2015</td>\n",
       "      <td>7</td>\n",
       "    </tr>\n",
       "  </tbody>\n",
       "</table>\n",
       "</div>"
      ],
      "text/plain": [
       "   Store StoreType Assortment  CompetitionDistance  CompetitionOpenSinceMonth  \\\n",
       "0      1         c          a               1270.0                        9.0   \n",
       "1      1         c          a               1270.0                        9.0   \n",
       "2      1         c          a               1270.0                        9.0   \n",
       "3      1         c          a               1270.0                        9.0   \n",
       "4      1         c          a               1270.0                        9.0   \n",
       "\n",
       "   CompetitionOpenSinceYear  Promo2  Promo2SinceWeek  Promo2SinceYear  \\\n",
       "0                    2008.0       0              0.0              0.0   \n",
       "1                    2008.0       0              0.0              0.0   \n",
       "2                    2008.0       0              0.0              0.0   \n",
       "3                    2008.0       0              0.0              0.0   \n",
       "4                    2008.0       0              0.0              0.0   \n",
       "\n",
       "  PromoInterval  DayOfWeek  Sales  Customers  Open  Promo StateHoliday  \\\n",
       "0             0          5   5263        555     1      1            0   \n",
       "1             0          4   5020        546     1      1            0   \n",
       "2             0          3   4782        523     1      1            0   \n",
       "3             0          2   5011        560     1      1            0   \n",
       "4             0          1   6102        612     1      1            0   \n",
       "\n",
       "   SchoolHoliday  Year  Month  \n",
       "0              1  2015      7  \n",
       "1              1  2015      7  \n",
       "2              1  2015      7  \n",
       "3              1  2015      7  \n",
       "4              1  2015      7  "
      ]
     },
     "execution_count": 67,
     "metadata": {},
     "output_type": "execute_result"
    }
   ],
   "source": [
    "combined_data['Year'] = combined_data['Date'].apply(lambda x: int(str(x)[0:4]))\n",
    "combined_data['Month'] = combined_data['Date'].apply(lambda x: int(str(x)[5:7]))\n",
    "combined_data.drop(['Date'],axis=1,inplace=True)\n",
    "\n",
    "combined_data.head(5)"
   ]
  },
  {
   "cell_type": "code",
   "execution_count": 74,
   "id": "c22bc254",
   "metadata": {},
   "outputs": [
    {
     "data": {
      "text/plain": [
       "Store                          int64\n",
       "StoreType                     object\n",
       "Assortment                    object\n",
       "CompetitionDistance          float64\n",
       "CompetitionOpenSinceMonth    float64\n",
       "CompetitionOpenSinceYear     float64\n",
       "Promo2                         int64\n",
       "Promo2SinceWeek              float64\n",
       "Promo2SinceYear              float64\n",
       "PromoInterval                 object\n",
       "DayOfWeek                      int64\n",
       "Sales                          int64\n",
       "Customers                      int64\n",
       "Open                           int64\n",
       "Promo                          int64\n",
       "StateHoliday                  object\n",
       "SchoolHoliday                  int64\n",
       "Year                           int64\n",
       "Month                          int64\n",
       "dtype: object"
      ]
     },
     "execution_count": 74,
     "metadata": {},
     "output_type": "execute_result"
    }
   ],
   "source": [
    "combined_data.dtypes"
   ]
  },
  {
   "cell_type": "code",
   "execution_count": 77,
   "id": "2924a679",
   "metadata": {},
   "outputs": [
    {
     "name": "stderr",
     "output_type": "stream",
     "text": [
      "C:\\ProgramData\\Anaconda3\\lib\\site-packages\\pandas\\core\\indexing.py:1637: SettingWithCopyWarning: \n",
      "A value is trying to be set on a copy of a slice from a DataFrame\n",
      "\n",
      "See the caveats in the documentation: https://pandas.pydata.org/pandas-docs/stable/user_guide/indexing.html#returning-a-view-versus-a-copy\n",
      "  self._setitem_single_block(indexer, value, name)\n"
     ]
    }
   ],
   "source": [
    "# StateHoliday column has values 0 & \"0\", So, we need to change values with 0 to \"0\"\n",
    "\n",
    "combined_data['StateHoliday'].loc[combined_data['StateHoliday'] == 0] = '0'"
   ]
  },
  {
   "cell_type": "code",
   "execution_count": 81,
   "id": "066b9612",
   "metadata": {},
   "outputs": [
    {
     "name": "stderr",
     "output_type": "stream",
     "text": [
      "C:\\ProgramData\\Anaconda3\\lib\\site-packages\\pandas\\core\\indexing.py:1637: SettingWithCopyWarning: \n",
      "A value is trying to be set on a copy of a slice from a DataFrame\n",
      "\n",
      "See the caveats in the documentation: https://pandas.pydata.org/pandas-docs/stable/user_guide/indexing.html#returning-a-view-versus-a-copy\n",
      "  self._setitem_single_block(indexer, value, name)\n"
     ]
    }
   ],
   "source": [
    "# PromoInterval column has values 0 & \"0\", So, we need to change values with 0 to \"0\"\n",
    "\n",
    "combined_data['PromoInterval'].loc[combined_data['PromoInterval'] == 0] = '0'"
   ]
  },
  {
   "cell_type": "code",
   "execution_count": 82,
   "id": "c1536169",
   "metadata": {},
   "outputs": [
    {
     "data": {
      "text/html": [
       "<div>\n",
       "<style scoped>\n",
       "    .dataframe tbody tr th:only-of-type {\n",
       "        vertical-align: middle;\n",
       "    }\n",
       "\n",
       "    .dataframe tbody tr th {\n",
       "        vertical-align: top;\n",
       "    }\n",
       "\n",
       "    .dataframe thead th {\n",
       "        text-align: right;\n",
       "    }\n",
       "</style>\n",
       "<table border=\"1\" class=\"dataframe\">\n",
       "  <thead>\n",
       "    <tr style=\"text-align: right;\">\n",
       "      <th></th>\n",
       "      <th>Store</th>\n",
       "      <th>StoreType</th>\n",
       "      <th>Assortment</th>\n",
       "      <th>CompetitionDistance</th>\n",
       "      <th>CompetitionOpenSinceMonth</th>\n",
       "      <th>CompetitionOpenSinceYear</th>\n",
       "      <th>Promo2</th>\n",
       "      <th>Promo2SinceWeek</th>\n",
       "      <th>Promo2SinceYear</th>\n",
       "      <th>PromoInterval</th>\n",
       "      <th>DayOfWeek</th>\n",
       "      <th>Sales</th>\n",
       "      <th>Customers</th>\n",
       "      <th>Open</th>\n",
       "      <th>Promo</th>\n",
       "      <th>StateHoliday</th>\n",
       "      <th>SchoolHoliday</th>\n",
       "      <th>Year</th>\n",
       "      <th>Month</th>\n",
       "    </tr>\n",
       "  </thead>\n",
       "  <tbody>\n",
       "    <tr>\n",
       "      <th>0</th>\n",
       "      <td>1</td>\n",
       "      <td>2</td>\n",
       "      <td>0</td>\n",
       "      <td>1270.0</td>\n",
       "      <td>9.0</td>\n",
       "      <td>2008.0</td>\n",
       "      <td>0</td>\n",
       "      <td>0.0</td>\n",
       "      <td>0.0</td>\n",
       "      <td>0</td>\n",
       "      <td>5</td>\n",
       "      <td>5263</td>\n",
       "      <td>555</td>\n",
       "      <td>1</td>\n",
       "      <td>1</td>\n",
       "      <td>0</td>\n",
       "      <td>1</td>\n",
       "      <td>2015</td>\n",
       "      <td>7</td>\n",
       "    </tr>\n",
       "    <tr>\n",
       "      <th>1</th>\n",
       "      <td>1</td>\n",
       "      <td>2</td>\n",
       "      <td>0</td>\n",
       "      <td>1270.0</td>\n",
       "      <td>9.0</td>\n",
       "      <td>2008.0</td>\n",
       "      <td>0</td>\n",
       "      <td>0.0</td>\n",
       "      <td>0.0</td>\n",
       "      <td>0</td>\n",
       "      <td>4</td>\n",
       "      <td>5020</td>\n",
       "      <td>546</td>\n",
       "      <td>1</td>\n",
       "      <td>1</td>\n",
       "      <td>0</td>\n",
       "      <td>1</td>\n",
       "      <td>2015</td>\n",
       "      <td>7</td>\n",
       "    </tr>\n",
       "    <tr>\n",
       "      <th>2</th>\n",
       "      <td>1</td>\n",
       "      <td>2</td>\n",
       "      <td>0</td>\n",
       "      <td>1270.0</td>\n",
       "      <td>9.0</td>\n",
       "      <td>2008.0</td>\n",
       "      <td>0</td>\n",
       "      <td>0.0</td>\n",
       "      <td>0.0</td>\n",
       "      <td>0</td>\n",
       "      <td>3</td>\n",
       "      <td>4782</td>\n",
       "      <td>523</td>\n",
       "      <td>1</td>\n",
       "      <td>1</td>\n",
       "      <td>0</td>\n",
       "      <td>1</td>\n",
       "      <td>2015</td>\n",
       "      <td>7</td>\n",
       "    </tr>\n",
       "    <tr>\n",
       "      <th>3</th>\n",
       "      <td>1</td>\n",
       "      <td>2</td>\n",
       "      <td>0</td>\n",
       "      <td>1270.0</td>\n",
       "      <td>9.0</td>\n",
       "      <td>2008.0</td>\n",
       "      <td>0</td>\n",
       "      <td>0.0</td>\n",
       "      <td>0.0</td>\n",
       "      <td>0</td>\n",
       "      <td>2</td>\n",
       "      <td>5011</td>\n",
       "      <td>560</td>\n",
       "      <td>1</td>\n",
       "      <td>1</td>\n",
       "      <td>0</td>\n",
       "      <td>1</td>\n",
       "      <td>2015</td>\n",
       "      <td>7</td>\n",
       "    </tr>\n",
       "    <tr>\n",
       "      <th>4</th>\n",
       "      <td>1</td>\n",
       "      <td>2</td>\n",
       "      <td>0</td>\n",
       "      <td>1270.0</td>\n",
       "      <td>9.0</td>\n",
       "      <td>2008.0</td>\n",
       "      <td>0</td>\n",
       "      <td>0.0</td>\n",
       "      <td>0.0</td>\n",
       "      <td>0</td>\n",
       "      <td>1</td>\n",
       "      <td>6102</td>\n",
       "      <td>612</td>\n",
       "      <td>1</td>\n",
       "      <td>1</td>\n",
       "      <td>0</td>\n",
       "      <td>1</td>\n",
       "      <td>2015</td>\n",
       "      <td>7</td>\n",
       "    </tr>\n",
       "  </tbody>\n",
       "</table>\n",
       "</div>"
      ],
      "text/plain": [
       "   Store  StoreType  Assortment  CompetitionDistance  \\\n",
       "0      1          2           0               1270.0   \n",
       "1      1          2           0               1270.0   \n",
       "2      1          2           0               1270.0   \n",
       "3      1          2           0               1270.0   \n",
       "4      1          2           0               1270.0   \n",
       "\n",
       "   CompetitionOpenSinceMonth  CompetitionOpenSinceYear  Promo2  \\\n",
       "0                        9.0                    2008.0       0   \n",
       "1                        9.0                    2008.0       0   \n",
       "2                        9.0                    2008.0       0   \n",
       "3                        9.0                    2008.0       0   \n",
       "4                        9.0                    2008.0       0   \n",
       "\n",
       "   Promo2SinceWeek  Promo2SinceYear  PromoInterval  DayOfWeek  Sales  \\\n",
       "0              0.0              0.0              0          5   5263   \n",
       "1              0.0              0.0              0          4   5020   \n",
       "2              0.0              0.0              0          3   4782   \n",
       "3              0.0              0.0              0          2   5011   \n",
       "4              0.0              0.0              0          1   6102   \n",
       "\n",
       "   Customers  Open  Promo  StateHoliday  SchoolHoliday  Year  Month  \n",
       "0        555     1      1             0              1  2015      7  \n",
       "1        546     1      1             0              1  2015      7  \n",
       "2        523     1      1             0              1  2015      7  \n",
       "3        560     1      1             0              1  2015      7  \n",
       "4        612     1      1             0              1  2015      7  "
      ]
     },
     "execution_count": 82,
     "metadata": {},
     "output_type": "execute_result"
    }
   ],
   "source": [
    "# encoding all categorical varibale to numeric values\n",
    "from sklearn.preprocessing import LabelEncoder\n",
    "label_encoder = LabelEncoder()\n",
    "\n",
    "combined_data['StoreType'] = label_encoder.fit_transform(combined_data['StoreType'])\n",
    "combined_data['Assortment'] = label_encoder.fit_transform(combined_data['Assortment'])\n",
    "combined_data['StateHoliday'] = label_encoder.fit_transform(combined_data['StateHoliday'])\n",
    "combined_data['PromoInterval'] = label_encoder.fit_transform(combined_data['PromoInterval'])\n",
    "\n",
    "combined_data.head()"
   ]
  },
  {
   "cell_type": "code",
   "execution_count": 83,
   "id": "8862d8ee",
   "metadata": {},
   "outputs": [
    {
     "data": {
      "text/html": [
       "<div>\n",
       "<style scoped>\n",
       "    .dataframe tbody tr th:only-of-type {\n",
       "        vertical-align: middle;\n",
       "    }\n",
       "\n",
       "    .dataframe tbody tr th {\n",
       "        vertical-align: top;\n",
       "    }\n",
       "\n",
       "    .dataframe thead th {\n",
       "        text-align: right;\n",
       "    }\n",
       "</style>\n",
       "<table border=\"1\" class=\"dataframe\">\n",
       "  <thead>\n",
       "    <tr style=\"text-align: right;\">\n",
       "      <th></th>\n",
       "      <th>Store</th>\n",
       "      <th>StoreType</th>\n",
       "      <th>Assortment</th>\n",
       "      <th>CompetitionDistance</th>\n",
       "      <th>CompetitionOpenSinceMonth</th>\n",
       "      <th>CompetitionOpenSinceYear</th>\n",
       "      <th>Promo2</th>\n",
       "      <th>Promo2SinceWeek</th>\n",
       "      <th>Promo2SinceYear</th>\n",
       "      <th>PromoInterval</th>\n",
       "      <th>DayOfWeek</th>\n",
       "      <th>Sales</th>\n",
       "      <th>Customers</th>\n",
       "      <th>Open</th>\n",
       "      <th>Promo</th>\n",
       "      <th>StateHoliday</th>\n",
       "      <th>SchoolHoliday</th>\n",
       "      <th>Year</th>\n",
       "      <th>Month</th>\n",
       "    </tr>\n",
       "  </thead>\n",
       "  <tbody>\n",
       "    <tr>\n",
       "      <th>Store</th>\n",
       "      <td>1.000000</td>\n",
       "      <td>-0.021410</td>\n",
       "      <td>0.004245</td>\n",
       "      <td>-0.026307</td>\n",
       "      <td>-0.037458</td>\n",
       "      <td>-0.000062</td>\n",
       "      <td>0.008589</td>\n",
       "      <td>0.011110</td>\n",
       "      <td>0.008622</td>\n",
       "      <td>0.001989</td>\n",
       "      <td>0.000283</td>\n",
       "      <td>0.004593</td>\n",
       "      <td>0.024109</td>\n",
       "      <td>-0.000097</td>\n",
       "      <td>-0.000208</td>\n",
       "      <td>0.000482</td>\n",
       "      <td>0.000552</td>\n",
       "      <td>0.000303</td>\n",
       "      <td>0.001444</td>\n",
       "    </tr>\n",
       "    <tr>\n",
       "      <th>StoreType</th>\n",
       "      <td>-0.021410</td>\n",
       "      <td>1.000000</td>\n",
       "      <td>0.232933</td>\n",
       "      <td>0.077866</td>\n",
       "      <td>0.040229</td>\n",
       "      <td>0.043589</td>\n",
       "      <td>0.088682</td>\n",
       "      <td>0.059524</td>\n",
       "      <td>0.088626</td>\n",
       "      <td>0.088430</td>\n",
       "      <td>-0.000216</td>\n",
       "      <td>-0.011098</td>\n",
       "      <td>-0.141081</td>\n",
       "      <td>-0.003156</td>\n",
       "      <td>0.000032</td>\n",
       "      <td>0.001318</td>\n",
       "      <td>0.000054</td>\n",
       "      <td>-0.001587</td>\n",
       "      <td>-0.007517</td>\n",
       "    </tr>\n",
       "    <tr>\n",
       "      <th>Assortment</th>\n",
       "      <td>0.004245</td>\n",
       "      <td>0.232933</td>\n",
       "      <td>1.000000</td>\n",
       "      <td>0.146370</td>\n",
       "      <td>0.035433</td>\n",
       "      <td>0.092480</td>\n",
       "      <td>0.008135</td>\n",
       "      <td>-0.030344</td>\n",
       "      <td>0.008182</td>\n",
       "      <td>0.039561</td>\n",
       "      <td>0.000095</td>\n",
       "      <td>0.076279</td>\n",
       "      <td>0.008024</td>\n",
       "      <td>0.002999</td>\n",
       "      <td>0.000247</td>\n",
       "      <td>-0.001403</td>\n",
       "      <td>-0.002581</td>\n",
       "      <td>0.001454</td>\n",
       "      <td>0.007404</td>\n",
       "    </tr>\n",
       "    <tr>\n",
       "      <th>CompetitionDistance</th>\n",
       "      <td>-0.026307</td>\n",
       "      <td>0.077866</td>\n",
       "      <td>0.146370</td>\n",
       "      <td>1.000000</td>\n",
       "      <td>-0.048702</td>\n",
       "      <td>0.020915</td>\n",
       "      <td>-0.140110</td>\n",
       "      <td>-0.123945</td>\n",
       "      <td>-0.140173</td>\n",
       "      <td>-0.129411</td>\n",
       "      <td>-0.000128</td>\n",
       "      <td>-0.017254</td>\n",
       "      <td>-0.101805</td>\n",
       "      <td>0.008155</td>\n",
       "      <td>0.000360</td>\n",
       "      <td>-0.000393</td>\n",
       "      <td>-0.003664</td>\n",
       "      <td>0.000664</td>\n",
       "      <td>0.003692</td>\n",
       "    </tr>\n",
       "    <tr>\n",
       "      <th>CompetitionOpenSinceMonth</th>\n",
       "      <td>-0.037458</td>\n",
       "      <td>0.040229</td>\n",
       "      <td>0.035433</td>\n",
       "      <td>-0.048702</td>\n",
       "      <td>1.000000</td>\n",
       "      <td>0.058225</td>\n",
       "      <td>0.021133</td>\n",
       "      <td>0.019334</td>\n",
       "      <td>0.021143</td>\n",
       "      <td>0.014304</td>\n",
       "      <td>-0.000093</td>\n",
       "      <td>-0.021269</td>\n",
       "      <td>-0.021634</td>\n",
       "      <td>0.001608</td>\n",
       "      <td>0.000234</td>\n",
       "      <td>0.000841</td>\n",
       "      <td>0.000102</td>\n",
       "      <td>-0.000162</td>\n",
       "      <td>-0.000249</td>\n",
       "    </tr>\n",
       "    <tr>\n",
       "      <th>CompetitionOpenSinceYear</th>\n",
       "      <td>-0.000062</td>\n",
       "      <td>0.043589</td>\n",
       "      <td>0.092480</td>\n",
       "      <td>0.020915</td>\n",
       "      <td>0.058225</td>\n",
       "      <td>1.000000</td>\n",
       "      <td>-0.022557</td>\n",
       "      <td>-0.027402</td>\n",
       "      <td>-0.022577</td>\n",
       "      <td>-0.025280</td>\n",
       "      <td>-0.000136</td>\n",
       "      <td>0.008420</td>\n",
       "      <td>0.006131</td>\n",
       "      <td>0.002527</td>\n",
       "      <td>0.000218</td>\n",
       "      <td>-0.001447</td>\n",
       "      <td>0.001840</td>\n",
       "      <td>0.000628</td>\n",
       "      <td>0.003229</td>\n",
       "    </tr>\n",
       "    <tr>\n",
       "      <th>Promo2</th>\n",
       "      <td>0.008589</td>\n",
       "      <td>0.088682</td>\n",
       "      <td>0.008135</td>\n",
       "      <td>-0.140110</td>\n",
       "      <td>0.021133</td>\n",
       "      <td>-0.022557</td>\n",
       "      <td>1.000000</td>\n",
       "      <td>0.759135</td>\n",
       "      <td>0.999999</td>\n",
       "      <td>0.905080</td>\n",
       "      <td>0.000073</td>\n",
       "      <td>-0.089048</td>\n",
       "      <td>-0.148849</td>\n",
       "      <td>-0.008068</td>\n",
       "      <td>-0.000715</td>\n",
       "      <td>0.004867</td>\n",
       "      <td>-0.006891</td>\n",
       "      <td>-0.005096</td>\n",
       "      <td>-0.025139</td>\n",
       "    </tr>\n",
       "    <tr>\n",
       "      <th>Promo2SinceWeek</th>\n",
       "      <td>0.011110</td>\n",
       "      <td>0.059524</td>\n",
       "      <td>-0.030344</td>\n",
       "      <td>-0.123945</td>\n",
       "      <td>0.019334</td>\n",
       "      <td>-0.027402</td>\n",
       "      <td>0.759135</td>\n",
       "      <td>1.000000</td>\n",
       "      <td>0.758949</td>\n",
       "      <td>0.678924</td>\n",
       "      <td>0.000167</td>\n",
       "      <td>-0.042568</td>\n",
       "      <td>-0.097312</td>\n",
       "      <td>-0.007271</td>\n",
       "      <td>-0.001037</td>\n",
       "      <td>0.004651</td>\n",
       "      <td>-0.006680</td>\n",
       "      <td>-0.006235</td>\n",
       "      <td>-0.031098</td>\n",
       "    </tr>\n",
       "    <tr>\n",
       "      <th>Promo2SinceYear</th>\n",
       "      <td>0.008622</td>\n",
       "      <td>0.088626</td>\n",
       "      <td>0.008182</td>\n",
       "      <td>-0.140173</td>\n",
       "      <td>0.021143</td>\n",
       "      <td>-0.022577</td>\n",
       "      <td>0.999999</td>\n",
       "      <td>0.758949</td>\n",
       "      <td>1.000000</td>\n",
       "      <td>0.905144</td>\n",
       "      <td>0.000073</td>\n",
       "      <td>-0.089064</td>\n",
       "      <td>-0.148829</td>\n",
       "      <td>-0.008066</td>\n",
       "      <td>-0.000715</td>\n",
       "      <td>0.004868</td>\n",
       "      <td>-0.006894</td>\n",
       "      <td>-0.005097</td>\n",
       "      <td>-0.025145</td>\n",
       "    </tr>\n",
       "    <tr>\n",
       "      <th>PromoInterval</th>\n",
       "      <td>0.001989</td>\n",
       "      <td>0.088430</td>\n",
       "      <td>0.039561</td>\n",
       "      <td>-0.129411</td>\n",
       "      <td>0.014304</td>\n",
       "      <td>-0.025280</td>\n",
       "      <td>0.905080</td>\n",
       "      <td>0.678924</td>\n",
       "      <td>0.905144</td>\n",
       "      <td>1.000000</td>\n",
       "      <td>0.000062</td>\n",
       "      <td>-0.083892</td>\n",
       "      <td>-0.135350</td>\n",
       "      <td>-0.006954</td>\n",
       "      <td>-0.000636</td>\n",
       "      <td>0.004160</td>\n",
       "      <td>-0.006456</td>\n",
       "      <td>-0.004555</td>\n",
       "      <td>-0.022488</td>\n",
       "    </tr>\n",
       "    <tr>\n",
       "      <th>DayOfWeek</th>\n",
       "      <td>0.000283</td>\n",
       "      <td>-0.000216</td>\n",
       "      <td>0.000095</td>\n",
       "      <td>-0.000128</td>\n",
       "      <td>-0.000093</td>\n",
       "      <td>-0.000136</td>\n",
       "      <td>0.000073</td>\n",
       "      <td>0.000167</td>\n",
       "      <td>0.000073</td>\n",
       "      <td>0.000062</td>\n",
       "      <td>1.000000</td>\n",
       "      <td>-0.466677</td>\n",
       "      <td>-0.391695</td>\n",
       "      <td>-0.529153</td>\n",
       "      <td>-0.392648</td>\n",
       "      <td>-0.044323</td>\n",
       "      <td>-0.205408</td>\n",
       "      <td>0.001839</td>\n",
       "      <td>-0.005081</td>\n",
       "    </tr>\n",
       "    <tr>\n",
       "      <th>Sales</th>\n",
       "      <td>0.004593</td>\n",
       "      <td>-0.011098</td>\n",
       "      <td>0.076279</td>\n",
       "      <td>-0.017254</td>\n",
       "      <td>-0.021269</td>\n",
       "      <td>0.008420</td>\n",
       "      <td>-0.089048</td>\n",
       "      <td>-0.042568</td>\n",
       "      <td>-0.089064</td>\n",
       "      <td>-0.083892</td>\n",
       "      <td>-0.466677</td>\n",
       "      <td>1.000000</td>\n",
       "      <td>0.893088</td>\n",
       "      <td>0.685319</td>\n",
       "      <td>0.455860</td>\n",
       "      <td>-0.232186</td>\n",
       "      <td>0.086117</td>\n",
       "      <td>0.024549</td>\n",
       "      <td>0.047226</td>\n",
       "    </tr>\n",
       "    <tr>\n",
       "      <th>Customers</th>\n",
       "      <td>0.024109</td>\n",
       "      <td>-0.141081</td>\n",
       "      <td>0.008024</td>\n",
       "      <td>-0.101805</td>\n",
       "      <td>-0.021634</td>\n",
       "      <td>0.006131</td>\n",
       "      <td>-0.148849</td>\n",
       "      <td>-0.097312</td>\n",
       "      <td>-0.148829</td>\n",
       "      <td>-0.135350</td>\n",
       "      <td>-0.391695</td>\n",
       "      <td>0.893088</td>\n",
       "      <td>1.000000</td>\n",
       "      <td>0.624471</td>\n",
       "      <td>0.319065</td>\n",
       "      <td>-0.207876</td>\n",
       "      <td>0.072633</td>\n",
       "      <td>-0.000422</td>\n",
       "      <td>0.036658</td>\n",
       "    </tr>\n",
       "    <tr>\n",
       "      <th>Open</th>\n",
       "      <td>-0.000097</td>\n",
       "      <td>-0.003156</td>\n",
       "      <td>0.002999</td>\n",
       "      <td>0.008155</td>\n",
       "      <td>0.001608</td>\n",
       "      <td>0.002527</td>\n",
       "      <td>-0.008068</td>\n",
       "      <td>-0.007271</td>\n",
       "      <td>-0.008066</td>\n",
       "      <td>-0.006954</td>\n",
       "      <td>-0.529153</td>\n",
       "      <td>0.685319</td>\n",
       "      <td>0.624471</td>\n",
       "      <td>1.000000</td>\n",
       "      <td>0.295007</td>\n",
       "      <td>-0.341041</td>\n",
       "      <td>0.086203</td>\n",
       "      <td>-0.000957</td>\n",
       "      <td>-0.000847</td>\n",
       "    </tr>\n",
       "    <tr>\n",
       "      <th>Promo</th>\n",
       "      <td>-0.000208</td>\n",
       "      <td>0.000032</td>\n",
       "      <td>0.000247</td>\n",
       "      <td>0.000360</td>\n",
       "      <td>0.000234</td>\n",
       "      <td>0.000218</td>\n",
       "      <td>-0.000715</td>\n",
       "      <td>-0.001037</td>\n",
       "      <td>-0.000715</td>\n",
       "      <td>-0.000636</td>\n",
       "      <td>-0.392648</td>\n",
       "      <td>0.455860</td>\n",
       "      <td>0.319065</td>\n",
       "      <td>0.295007</td>\n",
       "      <td>1.000000</td>\n",
       "      <td>-0.024091</td>\n",
       "      <td>0.067567</td>\n",
       "      <td>0.024432</td>\n",
       "      <td>-0.011989</td>\n",
       "    </tr>\n",
       "    <tr>\n",
       "      <th>StateHoliday</th>\n",
       "      <td>0.000482</td>\n",
       "      <td>0.001318</td>\n",
       "      <td>-0.001403</td>\n",
       "      <td>-0.000393</td>\n",
       "      <td>0.000841</td>\n",
       "      <td>-0.001447</td>\n",
       "      <td>0.004867</td>\n",
       "      <td>0.004651</td>\n",
       "      <td>0.004868</td>\n",
       "      <td>0.004160</td>\n",
       "      <td>-0.044323</td>\n",
       "      <td>-0.232186</td>\n",
       "      <td>-0.207876</td>\n",
       "      <td>-0.341041</td>\n",
       "      <td>-0.024091</td>\n",
       "      <td>1.000000</td>\n",
       "      <td>0.196512</td>\n",
       "      <td>-0.005095</td>\n",
       "      <td>0.038118</td>\n",
       "    </tr>\n",
       "    <tr>\n",
       "      <th>SchoolHoliday</th>\n",
       "      <td>0.000552</td>\n",
       "      <td>0.000054</td>\n",
       "      <td>-0.002581</td>\n",
       "      <td>-0.003664</td>\n",
       "      <td>0.000102</td>\n",
       "      <td>0.001840</td>\n",
       "      <td>-0.006891</td>\n",
       "      <td>-0.006680</td>\n",
       "      <td>-0.006894</td>\n",
       "      <td>-0.006456</td>\n",
       "      <td>-0.205408</td>\n",
       "      <td>0.086117</td>\n",
       "      <td>0.072633</td>\n",
       "      <td>0.086203</td>\n",
       "      <td>0.067567</td>\n",
       "      <td>0.196512</td>\n",
       "      <td>1.000000</td>\n",
       "      <td>-0.036569</td>\n",
       "      <td>0.103360</td>\n",
       "    </tr>\n",
       "    <tr>\n",
       "      <th>Year</th>\n",
       "      <td>0.000303</td>\n",
       "      <td>-0.001587</td>\n",
       "      <td>0.001454</td>\n",
       "      <td>0.000664</td>\n",
       "      <td>-0.000162</td>\n",
       "      <td>0.000628</td>\n",
       "      <td>-0.005096</td>\n",
       "      <td>-0.006235</td>\n",
       "      <td>-0.005097</td>\n",
       "      <td>-0.004555</td>\n",
       "      <td>0.001839</td>\n",
       "      <td>0.024549</td>\n",
       "      <td>-0.000422</td>\n",
       "      <td>-0.000957</td>\n",
       "      <td>0.024432</td>\n",
       "      <td>-0.005095</td>\n",
       "      <td>-0.036569</td>\n",
       "      <td>1.000000</td>\n",
       "      <td>-0.269335</td>\n",
       "    </tr>\n",
       "    <tr>\n",
       "      <th>Month</th>\n",
       "      <td>0.001444</td>\n",
       "      <td>-0.007517</td>\n",
       "      <td>0.007404</td>\n",
       "      <td>0.003692</td>\n",
       "      <td>-0.000249</td>\n",
       "      <td>0.003229</td>\n",
       "      <td>-0.025139</td>\n",
       "      <td>-0.031098</td>\n",
       "      <td>-0.025145</td>\n",
       "      <td>-0.022488</td>\n",
       "      <td>-0.005081</td>\n",
       "      <td>0.047226</td>\n",
       "      <td>0.036658</td>\n",
       "      <td>-0.000847</td>\n",
       "      <td>-0.011989</td>\n",
       "      <td>0.038118</td>\n",
       "      <td>0.103360</td>\n",
       "      <td>-0.269335</td>\n",
       "      <td>1.000000</td>\n",
       "    </tr>\n",
       "  </tbody>\n",
       "</table>\n",
       "</div>"
      ],
      "text/plain": [
       "                              Store  StoreType  Assortment  \\\n",
       "Store                      1.000000  -0.021410    0.004245   \n",
       "StoreType                 -0.021410   1.000000    0.232933   \n",
       "Assortment                 0.004245   0.232933    1.000000   \n",
       "CompetitionDistance       -0.026307   0.077866    0.146370   \n",
       "CompetitionOpenSinceMonth -0.037458   0.040229    0.035433   \n",
       "CompetitionOpenSinceYear  -0.000062   0.043589    0.092480   \n",
       "Promo2                     0.008589   0.088682    0.008135   \n",
       "Promo2SinceWeek            0.011110   0.059524   -0.030344   \n",
       "Promo2SinceYear            0.008622   0.088626    0.008182   \n",
       "PromoInterval              0.001989   0.088430    0.039561   \n",
       "DayOfWeek                  0.000283  -0.000216    0.000095   \n",
       "Sales                      0.004593  -0.011098    0.076279   \n",
       "Customers                  0.024109  -0.141081    0.008024   \n",
       "Open                      -0.000097  -0.003156    0.002999   \n",
       "Promo                     -0.000208   0.000032    0.000247   \n",
       "StateHoliday               0.000482   0.001318   -0.001403   \n",
       "SchoolHoliday              0.000552   0.000054   -0.002581   \n",
       "Year                       0.000303  -0.001587    0.001454   \n",
       "Month                      0.001444  -0.007517    0.007404   \n",
       "\n",
       "                           CompetitionDistance  CompetitionOpenSinceMonth  \\\n",
       "Store                                -0.026307                  -0.037458   \n",
       "StoreType                             0.077866                   0.040229   \n",
       "Assortment                            0.146370                   0.035433   \n",
       "CompetitionDistance                   1.000000                  -0.048702   \n",
       "CompetitionOpenSinceMonth            -0.048702                   1.000000   \n",
       "CompetitionOpenSinceYear              0.020915                   0.058225   \n",
       "Promo2                               -0.140110                   0.021133   \n",
       "Promo2SinceWeek                      -0.123945                   0.019334   \n",
       "Promo2SinceYear                      -0.140173                   0.021143   \n",
       "PromoInterval                        -0.129411                   0.014304   \n",
       "DayOfWeek                            -0.000128                  -0.000093   \n",
       "Sales                                -0.017254                  -0.021269   \n",
       "Customers                            -0.101805                  -0.021634   \n",
       "Open                                  0.008155                   0.001608   \n",
       "Promo                                 0.000360                   0.000234   \n",
       "StateHoliday                         -0.000393                   0.000841   \n",
       "SchoolHoliday                        -0.003664                   0.000102   \n",
       "Year                                  0.000664                  -0.000162   \n",
       "Month                                 0.003692                  -0.000249   \n",
       "\n",
       "                           CompetitionOpenSinceYear    Promo2  \\\n",
       "Store                                     -0.000062  0.008589   \n",
       "StoreType                                  0.043589  0.088682   \n",
       "Assortment                                 0.092480  0.008135   \n",
       "CompetitionDistance                        0.020915 -0.140110   \n",
       "CompetitionOpenSinceMonth                  0.058225  0.021133   \n",
       "CompetitionOpenSinceYear                   1.000000 -0.022557   \n",
       "Promo2                                    -0.022557  1.000000   \n",
       "Promo2SinceWeek                           -0.027402  0.759135   \n",
       "Promo2SinceYear                           -0.022577  0.999999   \n",
       "PromoInterval                             -0.025280  0.905080   \n",
       "DayOfWeek                                 -0.000136  0.000073   \n",
       "Sales                                      0.008420 -0.089048   \n",
       "Customers                                  0.006131 -0.148849   \n",
       "Open                                       0.002527 -0.008068   \n",
       "Promo                                      0.000218 -0.000715   \n",
       "StateHoliday                              -0.001447  0.004867   \n",
       "SchoolHoliday                              0.001840 -0.006891   \n",
       "Year                                       0.000628 -0.005096   \n",
       "Month                                      0.003229 -0.025139   \n",
       "\n",
       "                           Promo2SinceWeek  Promo2SinceYear  PromoInterval  \\\n",
       "Store                             0.011110         0.008622       0.001989   \n",
       "StoreType                         0.059524         0.088626       0.088430   \n",
       "Assortment                       -0.030344         0.008182       0.039561   \n",
       "CompetitionDistance              -0.123945        -0.140173      -0.129411   \n",
       "CompetitionOpenSinceMonth         0.019334         0.021143       0.014304   \n",
       "CompetitionOpenSinceYear         -0.027402        -0.022577      -0.025280   \n",
       "Promo2                            0.759135         0.999999       0.905080   \n",
       "Promo2SinceWeek                   1.000000         0.758949       0.678924   \n",
       "Promo2SinceYear                   0.758949         1.000000       0.905144   \n",
       "PromoInterval                     0.678924         0.905144       1.000000   \n",
       "DayOfWeek                         0.000167         0.000073       0.000062   \n",
       "Sales                            -0.042568        -0.089064      -0.083892   \n",
       "Customers                        -0.097312        -0.148829      -0.135350   \n",
       "Open                             -0.007271        -0.008066      -0.006954   \n",
       "Promo                            -0.001037        -0.000715      -0.000636   \n",
       "StateHoliday                      0.004651         0.004868       0.004160   \n",
       "SchoolHoliday                    -0.006680        -0.006894      -0.006456   \n",
       "Year                             -0.006235        -0.005097      -0.004555   \n",
       "Month                            -0.031098        -0.025145      -0.022488   \n",
       "\n",
       "                           DayOfWeek     Sales  Customers      Open     Promo  \\\n",
       "Store                       0.000283  0.004593   0.024109 -0.000097 -0.000208   \n",
       "StoreType                  -0.000216 -0.011098  -0.141081 -0.003156  0.000032   \n",
       "Assortment                  0.000095  0.076279   0.008024  0.002999  0.000247   \n",
       "CompetitionDistance        -0.000128 -0.017254  -0.101805  0.008155  0.000360   \n",
       "CompetitionOpenSinceMonth  -0.000093 -0.021269  -0.021634  0.001608  0.000234   \n",
       "CompetitionOpenSinceYear   -0.000136  0.008420   0.006131  0.002527  0.000218   \n",
       "Promo2                      0.000073 -0.089048  -0.148849 -0.008068 -0.000715   \n",
       "Promo2SinceWeek             0.000167 -0.042568  -0.097312 -0.007271 -0.001037   \n",
       "Promo2SinceYear             0.000073 -0.089064  -0.148829 -0.008066 -0.000715   \n",
       "PromoInterval               0.000062 -0.083892  -0.135350 -0.006954 -0.000636   \n",
       "DayOfWeek                   1.000000 -0.466677  -0.391695 -0.529153 -0.392648   \n",
       "Sales                      -0.466677  1.000000   0.893088  0.685319  0.455860   \n",
       "Customers                  -0.391695  0.893088   1.000000  0.624471  0.319065   \n",
       "Open                       -0.529153  0.685319   0.624471  1.000000  0.295007   \n",
       "Promo                      -0.392648  0.455860   0.319065  0.295007  1.000000   \n",
       "StateHoliday               -0.044323 -0.232186  -0.207876 -0.341041 -0.024091   \n",
       "SchoolHoliday              -0.205408  0.086117   0.072633  0.086203  0.067567   \n",
       "Year                        0.001839  0.024549  -0.000422 -0.000957  0.024432   \n",
       "Month                      -0.005081  0.047226   0.036658 -0.000847 -0.011989   \n",
       "\n",
       "                           StateHoliday  SchoolHoliday      Year     Month  \n",
       "Store                          0.000482       0.000552  0.000303  0.001444  \n",
       "StoreType                      0.001318       0.000054 -0.001587 -0.007517  \n",
       "Assortment                    -0.001403      -0.002581  0.001454  0.007404  \n",
       "CompetitionDistance           -0.000393      -0.003664  0.000664  0.003692  \n",
       "CompetitionOpenSinceMonth      0.000841       0.000102 -0.000162 -0.000249  \n",
       "CompetitionOpenSinceYear      -0.001447       0.001840  0.000628  0.003229  \n",
       "Promo2                         0.004867      -0.006891 -0.005096 -0.025139  \n",
       "Promo2SinceWeek                0.004651      -0.006680 -0.006235 -0.031098  \n",
       "Promo2SinceYear                0.004868      -0.006894 -0.005097 -0.025145  \n",
       "PromoInterval                  0.004160      -0.006456 -0.004555 -0.022488  \n",
       "DayOfWeek                     -0.044323      -0.205408  0.001839 -0.005081  \n",
       "Sales                         -0.232186       0.086117  0.024549  0.047226  \n",
       "Customers                     -0.207876       0.072633 -0.000422  0.036658  \n",
       "Open                          -0.341041       0.086203 -0.000957 -0.000847  \n",
       "Promo                         -0.024091       0.067567  0.024432 -0.011989  \n",
       "StateHoliday                   1.000000       0.196512 -0.005095  0.038118  \n",
       "SchoolHoliday                  0.196512       1.000000 -0.036569  0.103360  \n",
       "Year                          -0.005095      -0.036569  1.000000 -0.269335  \n",
       "Month                          0.038118       0.103360 -0.269335  1.000000  "
      ]
     },
     "execution_count": 83,
     "metadata": {},
     "output_type": "execute_result"
    }
   ],
   "source": [
    "# Correlation\n",
    "correlation = combined_data.corr()\n",
    "correlation"
   ]
  },
  {
   "cell_type": "code",
   "execution_count": 90,
   "id": "81eeabc1",
   "metadata": {},
   "outputs": [
    {
     "data": {
      "text/plain": [
       "<AxesSubplot:>"
      ]
     },
     "execution_count": 90,
     "metadata": {},
     "output_type": "execute_result"
    },
    {
     "data": {
      "image/png": "[encoded data removed]",
      "text/plain": [
       "<Figure size 1296x720 with 2 Axes>"
      ]
     },
     "metadata": {
      "needs_background": "light"
     },
     "output_type": "display_data"
    }
   ],
   "source": [
    "# Heat Map\n",
    "plt.figure(figsize=(18,10))\n",
    "sns.heatmap(correlation, annot=True, linewidths=0.2, cmap='BrBG')"
   ]
  },
  {
   "cell_type": "markdown",
   "id": "852f0723",
   "metadata": {},
   "source": [
    "#### Observation:\n",
    "Correlation map shows\n",
    "\n",
    "Sales is highly correlated with Customers, Open and Promo code and minorly correlated to school holidays\n"
   ]
  },
  {
   "cell_type": "markdown",
   "id": "c11d85fe",
   "metadata": {},
   "source": [
    "## Buliding a Regression Model"
   ]
  },
  {
   "cell_type": "markdown",
   "id": "97ab81a5",
   "metadata": {},
   "source": [
    "#### Here we want our ML model to predict sales only when they are open and we know that there will be no sales if the store is closed"
   ]
  },
  {
   "cell_type": "code",
   "execution_count": 92,
   "id": "5d6f9b01",
   "metadata": {},
   "outputs": [],
   "source": [
    "combined_data_open = combined_data[combined_data['Open']==1]\n",
    "combined_data_closed = combined_data[combined_data['Open']==0]"
   ]
  },
  {
   "cell_type": "code",
   "execution_count": 93,
   "id": "698be3d3",
   "metadata": {},
   "outputs": [],
   "source": [
    "from sklearn.model_selection import train_test_split\n",
    "from sklearn.metrics import r2_score,mean_squared_error,mean_absolute_error,mean_absolute_percentage_error\n",
    "import math\n",
    "\n",
    "X_train, X_test, y_train, y_test_open = train_test_split(combined_data_open.drop(['Sales','Customers','Open'],axis=1),\n",
    "                                                        combined_data_open['Sales'], test_size=0.2, random_state=23)"
   ]
  },
  {
   "cell_type": "code",
   "execution_count": 94,
   "id": "af4ae559",
   "metadata": {},
   "outputs": [
    {
     "data": {
      "text/plain": [
       "Index(['Store', 'StoreType', 'Assortment', 'CompetitionDistance',\n",
       "       'CompetitionOpenSinceMonth', 'CompetitionOpenSinceYear', 'Promo2',\n",
       "       'Promo2SinceWeek', 'Promo2SinceYear', 'PromoInterval', 'DayOfWeek',\n",
       "       'Promo', 'StateHoliday', 'SchoolHoliday', 'Year', 'Month'],\n",
       "      dtype='object')"
      ]
     },
     "execution_count": 94,
     "metadata": {},
     "output_type": "execute_result"
    }
   ],
   "source": [
    "X_train.columns"
   ]
  },
  {
   "cell_type": "code",
   "execution_count": 97,
   "id": "5815a703",
   "metadata": {},
   "outputs": [
    {
     "data": {
      "text/plain": [
       "926196     7305\n",
       "487570     9210\n",
       "162025    11952\n",
       "30856      6511\n",
       "68341      5128\n",
       "Name: Sales, dtype: int64"
      ]
     },
     "execution_count": 97,
     "metadata": {},
     "output_type": "execute_result"
    }
   ],
   "source": [
    "y_train.head()"
   ]
  },
  {
   "cell_type": "code",
   "execution_count": 100,
   "id": "a38350f9",
   "metadata": {},
   "outputs": [],
   "source": [
    "y_test_closed = np.zeros(combined_data_closed.shape[0])\n",
    "y_test = np.append(y_test_open, y_test_closed)"
   ]
  },
  {
   "cell_type": "markdown",
   "id": "313ca770",
   "metadata": {},
   "source": [
    "## Linear Regression Algorithm"
   ]
  },
  {
   "cell_type": "code",
   "execution_count": 101,
   "id": "f91446af",
   "metadata": {},
   "outputs": [
    {
     "data": {
      "text/plain": [
       "LinearRegression()"
      ]
     },
     "execution_count": 101,
     "metadata": {},
     "output_type": "execute_result"
    }
   ],
   "source": [
    "from sklearn.linear_model import LinearRegression\n",
    "\n",
    "model = LinearRegression()\n",
    "model.fit(X_train,y_train)"
   ]
  },
  {
   "cell_type": "code",
   "execution_count": 102,
   "id": "2fcc98db",
   "metadata": {},
   "outputs": [],
   "source": [
    "prediction_open = model.predict(X_test)\n",
    "prediction_closed = np.zeros(combined_data_closed.shape[0])\n",
    "\n",
    "y_predict = np.append(prediction_open,prediction_closed)"
   ]
  },
  {
   "cell_type": "code",
   "execution_count": 103,
   "id": "98408886",
   "metadata": {},
   "outputs": [
    {
     "name": "stdout",
     "output_type": "stream",
     "text": [
      "r2_score: 0.7781562552711293\n",
      "Mean absolute error: 993.04\n",
      "Root mean squared error:  1918.6264163243095\n"
     ]
    }
   ],
   "source": [
    "# Performance of the model\n",
    "\n",
    "print('r2_score:',r2_score(y_test,y_predict))\n",
    "print('Mean absolute error: %.2f' % mean_absolute_error(y_test,y_predict))\n",
    "print('Root mean squared error: ', math.sqrt(mean_squared_error(y_test,y_predict)))"
   ]
  },
  {
   "cell_type": "code",
   "execution_count": 105,
   "id": "3b53549e",
   "metadata": {},
   "outputs": [
    {
     "data": {
      "text/plain": [
       "Text(0, 0.5, 'Predicted values')"
      ]
     },
     "execution_count": 105,
     "metadata": {},
     "output_type": "execute_result"
    },
    {
     "data": {
      "image/png": "[encoded data removed]",
      "text/plain": [
       "<Figure size 576x576 with 1 Axes>"
      ]
     },
     "metadata": {
      "needs_background": "light"
     },
     "output_type": "display_data"
    }
   ],
   "source": [
    "plt.figure(figsize=(8,8))\n",
    "plt.scatter(y_test,y_predict)\n",
    "\n",
    "p1 = max(max(y_predict),max(y_test))\n",
    "p2 = min(min(y_predict),min(y_test))\n",
    "plt.plot([p1,p2],[p1,p2],c='r')\n",
    "plt.xlabel('Actual values')\n",
    "plt.ylabel('Predicted values')"
   ]
  },
  {
   "cell_type": "markdown",
   "id": "cdb59fe7",
   "metadata": {},
   "source": [
    "#### Observation:\n",
    "From the above plot we can see that Linear regression model is performing badly as its not making any predictions more than 10000 even for 25000 sales.\n",
    "\n",
    "## SGD Regression Algorithm"
   ]
  },
  {
   "cell_type": "code",
   "execution_count": 106,
   "id": "6fdc118b",
   "metadata": {},
   "outputs": [
    {
     "name": "stdout",
     "output_type": "stream",
     "text": [
      "r2_score: -1.885259728733604e+23\n",
      "Mean absolute error: 908895056154506.38\n",
      "Root mean squared error:  1768692854310790.2\n"
     ]
    },
    {
     "data": {
      "text/plain": [
       "Text(0, 0.5, 'Predicted values')"
      ]
     },
     "execution_count": 106,
     "metadata": {},
     "output_type": "execute_result"
    },
    {
     "data": {
      "image/png": "[encoded data removed]",
      "text/plain": [
       "<Figure size 576x576 with 1 Axes>"
      ]
     },
     "metadata": {
      "needs_background": "light"
     },
     "output_type": "display_data"
    }
   ],
   "source": [
    "from sklearn.linear_model import SGDRegressor\n",
    "\n",
    "model = SGDRegressor()\n",
    "model.fit(X_train,y_train)\n",
    "\n",
    "prediction_open = model.predict(X_test)\n",
    "prediction_closed = np.zeros(combined_data_closed.shape[0])\n",
    "\n",
    "y_predict = np.append(prediction_open,prediction_closed)\n",
    "\n",
    "# Performance of the model\n",
    "\n",
    "print('r2_score:',r2_score(y_test,y_predict))\n",
    "print('Mean absolute error: %.2f' % mean_absolute_error(y_test,y_predict))\n",
    "print('Root mean squared error: ', math.sqrt(mean_squared_error(y_test,y_predict)))\n",
    "\n",
    "plt.figure(figsize=(8,8))\n",
    "plt.scatter(y_test,y_predict)\n",
    "\n",
    "p1 = max(max(y_predict),max(y_test))\n",
    "p2 = min(min(y_predict),min(y_test))\n",
    "plt.plot([p1,p2],[p1,p2],c='r')\n",
    "plt.xlabel('Actual values')\n",
    "plt.ylabel('Predicted values')"
   ]
  },
  {
   "cell_type": "markdown",
   "id": "2b0dab3b",
   "metadata": {},
   "source": [
    "#### Observation:\n",
    "The SGD regressor is performing worse than Linear Regression as its giving negative r2 score, lets see other regression models\n",
    "\n",
    "## Decision Tree Regressor"
   ]
  },
  {
   "cell_type": "code",
   "execution_count": 107,
   "id": "7f115893",
   "metadata": {},
   "outputs": [
    {
     "name": "stdout",
     "output_type": "stream",
     "text": [
      "r2_score: 0.9518686460839052\n",
      "Mean absolute error: 419.83\n",
      "Root mean squared error:  893.6775848221679\n"
     ]
    },
    {
     "data": {
      "text/plain": [
       "Text(0, 0.5, 'Predicted values')"
      ]
     },
     "execution_count": 107,
     "metadata": {},
     "output_type": "execute_result"
    },
    {
     "data": {
      "image/png": "[encoded data removed]",
      "text/plain": [
       "<Figure size 576x576 with 1 Axes>"
      ]
     },
     "metadata": {
      "needs_background": "light"
     },
     "output_type": "display_data"
    }
   ],
   "source": [
    "from sklearn.tree import DecisionTreeRegressor\n",
    "\n",
    "model = DecisionTreeRegressor()\n",
    "model.fit(X_train,y_train)\n",
    "\n",
    "prediction_open = model.predict(X_test)\n",
    "prediction_closed = np.zeros(combined_data_closed.shape[0])\n",
    "\n",
    "y_predict = np.append(prediction_open,prediction_closed)\n",
    "\n",
    "# Performance of the model\n",
    "\n",
    "print('r2_score:',r2_score(y_test,y_predict))\n",
    "print('Mean absolute error: %.2f' % mean_absolute_error(y_test,y_predict))\n",
    "print('Root mean squared error: ', math.sqrt(mean_squared_error(y_test,y_predict)))\n",
    "\n",
    "plt.figure(figsize=(8,8))\n",
    "plt.scatter(y_test,y_predict)\n",
    "\n",
    "p1 = max(max(y_predict),max(y_test))\n",
    "p2 = min(min(y_predict),min(y_test))\n",
    "plt.plot([p1,p2],[p1,p2],c='r')\n",
    "plt.xlabel('Actual values')\n",
    "plt.ylabel('Predicted values')"
   ]
  },
  {
   "cell_type": "markdown",
   "id": "62cc0807",
   "metadata": {},
   "source": [
    "#### Observation:\n",
    "The decision tree regressor performing well compared to Linear and SGD regressors\n",
    "\n",
    "## Random Forest Regressor"
   ]
  },
  {
   "cell_type": "code",
   "execution_count": 110,
   "id": "a40506c5",
   "metadata": {},
   "outputs": [
    {
     "name": "stdout",
     "output_type": "stream",
     "text": [
      "r2_score: 0.9659139304456031\n",
      "Mean absolute error: 355.11\n",
      "Root mean squared error:  752.0648461163908\n"
     ]
    },
    {
     "data": {
      "text/plain": [
       "Text(0, 0.5, 'Predicted values')"
      ]
     },
     "execution_count": 110,
     "metadata": {},
     "output_type": "execute_result"
    },
    {
     "data": {
      "image/png": "[encoded data removed]",
      "text/plain": [
       "<Figure size 576x576 with 1 Axes>"
      ]
     },
     "metadata": {
      "needs_background": "light"
     },
     "output_type": "display_data"
    }
   ],
   "source": [
    "from sklearn.ensemble import RandomForestRegressor\n",
    "\n",
    "random_forest_model = RandomForestRegressor(n_estimators=100)\n",
    "random_forest_model.fit(X_train,y_train)\n",
    "\n",
    "prediction_open = random_forest_model.predict(X_test)\n",
    "prediction_closed = np.zeros(combined_data_closed.shape[0])\n",
    "\n",
    "y_predict = np.append(prediction_open,prediction_closed)\n",
    "\n",
    "# Performance of the model\n",
    "\n",
    "print('r2_score:',r2_score(y_test,y_predict))\n",
    "print('Mean absolute error: %.2f' % mean_absolute_error(y_test,y_predict))\n",
    "print('Root mean squared error: ', math.sqrt(mean_squared_error(y_test,y_predict)))\n",
    "\n",
    "plt.figure(figsize=(8,8))\n",
    "plt.scatter(y_test,y_predict)\n",
    "\n",
    "p1 = max(max(y_predict),max(y_test))\n",
    "p2 = min(min(y_predict),min(y_test))\n",
    "plt.plot([p1,p2],[p1,p2],c='r')\n",
    "plt.xlabel('Actual values')\n",
    "plt.ylabel('Predicted values')"
   ]
  },
  {
   "cell_type": "markdown",
   "id": "03a26b05",
   "metadata": {},
   "source": [
    "#### Observation:\n",
    "Random Forest regressor had the lowest error as compared to other models, which means it is better at predicting sales than other models."
   ]
  },
  {
   "cell_type": "markdown",
   "id": "25d54759",
   "metadata": {},
   "source": [
    "### Understanding the important features"
   ]
  },
  {
   "cell_type": "code",
   "execution_count": 116,
   "id": "d166e000",
   "metadata": {},
   "outputs": [
    {
     "data": {
      "text/plain": [
       "array([0.17843767, 0.03341407, 0.02771767, 0.21285143, 0.06806114,\n",
       "       0.07374259, 0.00240777, 0.02996334, 0.03577271, 0.01397614,\n",
       "       0.08072961, 0.14254513, 0.0011992 , 0.01284554, 0.02392037,\n",
       "       0.06241562])"
      ]
     },
     "execution_count": 116,
     "metadata": {},
     "output_type": "execute_result"
    }
   ],
   "source": [
    "# getting weights of all the features used in the data\n",
    "feature_importance = random_forest_model.feature_importances_\n",
    "feature_importance"
   ]
  },
  {
   "cell_type": "code",
   "execution_count": 115,
   "id": "1356f91d",
   "metadata": {},
   "outputs": [
    {
     "data": {
      "text/plain": [
       "['Store',\n",
       " 'StoreType',\n",
       " 'Assortment',\n",
       " 'CompetitionDistance',\n",
       " 'CompetitionOpenSinceMonth',\n",
       " 'CompetitionOpenSinceYear',\n",
       " 'Promo2',\n",
       " 'Promo2SinceWeek',\n",
       " 'Promo2SinceYear',\n",
       " 'PromoInterval',\n",
       " 'DayOfWeek',\n",
       " 'Promo',\n",
       " 'StateHoliday',\n",
       " 'SchoolHoliday',\n",
       " 'Year',\n",
       " 'Month']"
      ]
     },
     "execution_count": 115,
     "metadata": {},
     "output_type": "execute_result"
    }
   ],
   "source": [
    "# features used\n",
    "columns = list(X_train.columns)\n",
    "columns"
   ]
  },
  {
   "cell_type": "code",
   "execution_count": 117,
   "id": "001a7705",
   "metadata": {},
   "outputs": [
    {
     "data": {
      "text/html": [
       "<div>\n",
       "<style scoped>\n",
       "    .dataframe tbody tr th:only-of-type {\n",
       "        vertical-align: middle;\n",
       "    }\n",
       "\n",
       "    .dataframe tbody tr th {\n",
       "        vertical-align: top;\n",
       "    }\n",
       "\n",
       "    .dataframe thead th {\n",
       "        text-align: right;\n",
       "    }\n",
       "</style>\n",
       "<table border=\"1\" class=\"dataframe\">\n",
       "  <thead>\n",
       "    <tr style=\"text-align: right;\">\n",
       "      <th></th>\n",
       "      <th>Features</th>\n",
       "      <th>Values</th>\n",
       "    </tr>\n",
       "  </thead>\n",
       "  <tbody>\n",
       "    <tr>\n",
       "      <th>0</th>\n",
       "      <td>Store</td>\n",
       "      <td>0.178438</td>\n",
       "    </tr>\n",
       "    <tr>\n",
       "      <th>1</th>\n",
       "      <td>StoreType</td>\n",
       "      <td>0.033414</td>\n",
       "    </tr>\n",
       "    <tr>\n",
       "      <th>2</th>\n",
       "      <td>Assortment</td>\n",
       "      <td>0.027718</td>\n",
       "    </tr>\n",
       "    <tr>\n",
       "      <th>3</th>\n",
       "      <td>CompetitionDistance</td>\n",
       "      <td>0.212851</td>\n",
       "    </tr>\n",
       "    <tr>\n",
       "      <th>4</th>\n",
       "      <td>CompetitionOpenSinceMonth</td>\n",
       "      <td>0.068061</td>\n",
       "    </tr>\n",
       "    <tr>\n",
       "      <th>5</th>\n",
       "      <td>CompetitionOpenSinceYear</td>\n",
       "      <td>0.073743</td>\n",
       "    </tr>\n",
       "    <tr>\n",
       "      <th>6</th>\n",
       "      <td>Promo2</td>\n",
       "      <td>0.002408</td>\n",
       "    </tr>\n",
       "    <tr>\n",
       "      <th>7</th>\n",
       "      <td>Promo2SinceWeek</td>\n",
       "      <td>0.029963</td>\n",
       "    </tr>\n",
       "    <tr>\n",
       "      <th>8</th>\n",
       "      <td>Promo2SinceYear</td>\n",
       "      <td>0.035773</td>\n",
       "    </tr>\n",
       "    <tr>\n",
       "      <th>9</th>\n",
       "      <td>PromoInterval</td>\n",
       "      <td>0.013976</td>\n",
       "    </tr>\n",
       "    <tr>\n",
       "      <th>10</th>\n",
       "      <td>DayOfWeek</td>\n",
       "      <td>0.080730</td>\n",
       "    </tr>\n",
       "    <tr>\n",
       "      <th>11</th>\n",
       "      <td>Promo</td>\n",
       "      <td>0.142545</td>\n",
       "    </tr>\n",
       "    <tr>\n",
       "      <th>12</th>\n",
       "      <td>StateHoliday</td>\n",
       "      <td>0.001199</td>\n",
       "    </tr>\n",
       "    <tr>\n",
       "      <th>13</th>\n",
       "      <td>SchoolHoliday</td>\n",
       "      <td>0.012846</td>\n",
       "    </tr>\n",
       "    <tr>\n",
       "      <th>14</th>\n",
       "      <td>Year</td>\n",
       "      <td>0.023920</td>\n",
       "    </tr>\n",
       "    <tr>\n",
       "      <th>15</th>\n",
       "      <td>Month</td>\n",
       "      <td>0.062416</td>\n",
       "    </tr>\n",
       "  </tbody>\n",
       "</table>\n",
       "</div>"
      ],
      "text/plain": [
       "                     Features    Values\n",
       "0                       Store  0.178438\n",
       "1                   StoreType  0.033414\n",
       "2                  Assortment  0.027718\n",
       "3         CompetitionDistance  0.212851\n",
       "4   CompetitionOpenSinceMonth  0.068061\n",
       "5    CompetitionOpenSinceYear  0.073743\n",
       "6                      Promo2  0.002408\n",
       "7             Promo2SinceWeek  0.029963\n",
       "8             Promo2SinceYear  0.035773\n",
       "9               PromoInterval  0.013976\n",
       "10                  DayOfWeek  0.080730\n",
       "11                      Promo  0.142545\n",
       "12               StateHoliday  0.001199\n",
       "13              SchoolHoliday  0.012846\n",
       "14                       Year  0.023920\n",
       "15                      Month  0.062416"
      ]
     },
     "execution_count": 117,
     "metadata": {},
     "output_type": "execute_result"
    }
   ],
   "source": [
    "# Lets make a dataframe consists of features and values\n",
    "feature_importance_df = pd.DataFrame({'Features':columns, 'Values':feature_importance})\n",
    "feature_importance_df"
   ]
  },
  {
   "cell_type": "code",
   "execution_count": 118,
   "id": "32947637",
   "metadata": {},
   "outputs": [
    {
     "data": {
      "text/html": [
       "<div>\n",
       "<style scoped>\n",
       "    .dataframe tbody tr th:only-of-type {\n",
       "        vertical-align: middle;\n",
       "    }\n",
       "\n",
       "    .dataframe tbody tr th {\n",
       "        vertical-align: top;\n",
       "    }\n",
       "\n",
       "    .dataframe thead th {\n",
       "        text-align: right;\n",
       "    }\n",
       "</style>\n",
       "<table border=\"1\" class=\"dataframe\">\n",
       "  <thead>\n",
       "    <tr style=\"text-align: right;\">\n",
       "      <th></th>\n",
       "      <th>Features</th>\n",
       "      <th>Values</th>\n",
       "    </tr>\n",
       "  </thead>\n",
       "  <tbody>\n",
       "    <tr>\n",
       "      <th>3</th>\n",
       "      <td>CompetitionDistance</td>\n",
       "      <td>0.212851</td>\n",
       "    </tr>\n",
       "    <tr>\n",
       "      <th>0</th>\n",
       "      <td>Store</td>\n",
       "      <td>0.178438</td>\n",
       "    </tr>\n",
       "    <tr>\n",
       "      <th>11</th>\n",
       "      <td>Promo</td>\n",
       "      <td>0.142545</td>\n",
       "    </tr>\n",
       "    <tr>\n",
       "      <th>10</th>\n",
       "      <td>DayOfWeek</td>\n",
       "      <td>0.080730</td>\n",
       "    </tr>\n",
       "    <tr>\n",
       "      <th>5</th>\n",
       "      <td>CompetitionOpenSinceYear</td>\n",
       "      <td>0.073743</td>\n",
       "    </tr>\n",
       "    <tr>\n",
       "      <th>4</th>\n",
       "      <td>CompetitionOpenSinceMonth</td>\n",
       "      <td>0.068061</td>\n",
       "    </tr>\n",
       "    <tr>\n",
       "      <th>15</th>\n",
       "      <td>Month</td>\n",
       "      <td>0.062416</td>\n",
       "    </tr>\n",
       "    <tr>\n",
       "      <th>8</th>\n",
       "      <td>Promo2SinceYear</td>\n",
       "      <td>0.035773</td>\n",
       "    </tr>\n",
       "    <tr>\n",
       "      <th>1</th>\n",
       "      <td>StoreType</td>\n",
       "      <td>0.033414</td>\n",
       "    </tr>\n",
       "    <tr>\n",
       "      <th>7</th>\n",
       "      <td>Promo2SinceWeek</td>\n",
       "      <td>0.029963</td>\n",
       "    </tr>\n",
       "    <tr>\n",
       "      <th>2</th>\n",
       "      <td>Assortment</td>\n",
       "      <td>0.027718</td>\n",
       "    </tr>\n",
       "    <tr>\n",
       "      <th>14</th>\n",
       "      <td>Year</td>\n",
       "      <td>0.023920</td>\n",
       "    </tr>\n",
       "    <tr>\n",
       "      <th>9</th>\n",
       "      <td>PromoInterval</td>\n",
       "      <td>0.013976</td>\n",
       "    </tr>\n",
       "    <tr>\n",
       "      <th>13</th>\n",
       "      <td>SchoolHoliday</td>\n",
       "      <td>0.012846</td>\n",
       "    </tr>\n",
       "    <tr>\n",
       "      <th>6</th>\n",
       "      <td>Promo2</td>\n",
       "      <td>0.002408</td>\n",
       "    </tr>\n",
       "    <tr>\n",
       "      <th>12</th>\n",
       "      <td>StateHoliday</td>\n",
       "      <td>0.001199</td>\n",
       "    </tr>\n",
       "  </tbody>\n",
       "</table>\n",
       "</div>"
      ],
      "text/plain": [
       "                     Features    Values\n",
       "3         CompetitionDistance  0.212851\n",
       "0                       Store  0.178438\n",
       "11                      Promo  0.142545\n",
       "10                  DayOfWeek  0.080730\n",
       "5    CompetitionOpenSinceYear  0.073743\n",
       "4   CompetitionOpenSinceMonth  0.068061\n",
       "15                      Month  0.062416\n",
       "8             Promo2SinceYear  0.035773\n",
       "1                   StoreType  0.033414\n",
       "7             Promo2SinceWeek  0.029963\n",
       "2                  Assortment  0.027718\n",
       "14                       Year  0.023920\n",
       "9               PromoInterval  0.013976\n",
       "13              SchoolHoliday  0.012846\n",
       "6                      Promo2  0.002408\n",
       "12               StateHoliday  0.001199"
      ]
     },
     "execution_count": 118,
     "metadata": {},
     "output_type": "execute_result"
    }
   ],
   "source": [
    "feature_importance_df.sort_values(by=[\"Values\"], inplace=True, ascending=False)\n",
    "feature_importance_df"
   ]
  },
  {
   "cell_type": "code",
   "execution_count": 122,
   "id": "b0e6d41b",
   "metadata": {},
   "outputs": [
    {
     "data": {
      "image/png": "[encoded data removed]",
      "text/plain": [
       "<Figure size 1080x432 with 1 Axes>"
      ]
     },
     "metadata": {
      "needs_background": "light"
     },
     "output_type": "display_data"
    }
   ],
   "source": [
    "# Feature Importance\n",
    "plt.figure(figsize=(15,6))\n",
    "\n",
    "sns.barplot(x=feature_importance_df['Features'], y=feature_importance_df['Values'],\n",
    "            data = feature_importance_df ).set(title='Feature Importance')\n",
    "\n",
    "plt.xticks(rotation=90)\n",
    "plt.show()"
   ]
  },
  {
   "cell_type": "markdown",
   "id": "a398e304",
   "metadata": {},
   "source": [
    "# Conclusion:\n",
    "\n",
    "1. Closer competiton distance make stores more competitive and thus by using Promo codes can help them to boost their sales.\n",
    "\n",
    "2. Store Type affects the sales - Of all a,b,c,d store models 'b' type stores have the highest sales.\n",
    "\n",
    "3. Promo code can help increase in the competition and lead to more sales.\n",
    "\n",
    "4. Sales on 1 (Monday) and 5 (Friday) are the highest.\n",
    "\n",
    "5. Assortment level 'b' have the highest sales.\n",
    "\n",
    "6. Customers are definately attracted by Promo codes thus sales are higher when there is a Promo code in a Store\n",
    "\n",
    "7. Since most of the stores are closed on Holidays, the feature state holidays has no effect on sales"
   ]
  }
 ],
 "metadata": {
  "kernelspec": {
   "display_name": "Python 3",
   "language": "python",
   "name": "python3"
  },
  "language_info": {
   "codemirror_mode": {
    "name": "ipython",
    "version": 3
   },
   "file_extension": ".py",
   "mimetype": "text/x-python",
   "name": "python",
   "nbconvert_exporter": "python",
   "pygments_lexer": "ipython3",
   "version": "3.8.8"
  }
 },
 "nbformat": 4,
 "nbformat_minor": 5
}
